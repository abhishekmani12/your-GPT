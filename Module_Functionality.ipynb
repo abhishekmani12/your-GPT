{
  "cells": [
    {
      "cell_type": "markdown",
      "source": [
        "# **Imports**"
      ],
      "metadata": {
        "id": "5TWXZZO1qQNL"
      }
    },
    {
      "cell_type": "code",
      "execution_count": null,
      "metadata": {
        "id": "XrKcRgPwqMYd"
      },
      "outputs": [],
      "source": [
        "import os\n",
        "from load import embed, analyze\n",
        "from query import get_answer, get_pipe\n",
        "from wiki import get_details\n",
        "from news import get_news\n",
        "from dotenv import load_dotenv\n",
        "from palmquery import ask_palm\n",
        "\n",
        "load_dotenv()\n",
        "model_type=os.getenv('model')"
      ]
    },
    {
      "cell_type": "markdown",
      "source": [
        "# **Data Analysis and Data Viz**"
      ],
      "metadata": {
        "id": "EKtTZ2fbqVeE"
      }
    },
    {
      "cell_type": "code",
      "execution_count": null,
      "metadata": {
        "colab": {
          "referenced_widgets": [
            "e1f3d29d6bb3464a8fd53b358e1bbd1c"
          ]
        },
        "id": "itDUTbPFqMYg",
        "outputId": "2b32e00d-1e7f-4189-c007-c0fcfa32018b"
      },
      "outputs": [
        {
          "data": {
            "application/vnd.jupyter.widget-view+json": {
              "model_id": "e1f3d29d6bb3464a8fd53b358e1bbd1c",
              "version_major": 2,
              "version_minor": 0
            },
            "text/plain": [
              "                                             |          | [  0%]   00:00 -> (? left)"
            ]
          },
          "metadata": {},
          "output_type": "display_data"
        },
        {
          "name": "stderr",
          "output_type": "stream",
          "text": [
            "/home/abshk/anaconda3/envs/nlp/lib/python3.9/site-packages/sweetviz/from_profiling_pandas.py:65: FutureWarning: is_categorical_dtype is deprecated and will be removed in a future version. Use isinstance(dtype, CategoricalDtype) instead\n",
            "  if pd.api.types.is_categorical_dtype(keys):\n",
            "/home/abshk/anaconda3/envs/nlp/lib/python3.9/site-packages/sweetviz/from_profiling_pandas.py:65: FutureWarning: is_categorical_dtype is deprecated and will be removed in a future version. Use isinstance(dtype, CategoricalDtype) instead\n",
            "  if pd.api.types.is_categorical_dtype(keys):\n",
            "/home/abshk/anaconda3/envs/nlp/lib/python3.9/site-packages/sweetviz/from_profiling_pandas.py:65: FutureWarning: is_categorical_dtype is deprecated and will be removed in a future version. Use isinstance(dtype, CategoricalDtype) instead\n",
            "  if pd.api.types.is_categorical_dtype(keys):\n",
            "/home/abshk/anaconda3/envs/nlp/lib/python3.9/site-packages/sweetviz/from_profiling_pandas.py:65: FutureWarning: is_categorical_dtype is deprecated and will be removed in a future version. Use isinstance(dtype, CategoricalDtype) instead\n",
            "  if pd.api.types.is_categorical_dtype(keys):\n",
            "/home/abshk/anaconda3/envs/nlp/lib/python3.9/site-packages/sweetviz/from_profiling_pandas.py:65: FutureWarning: is_categorical_dtype is deprecated and will be removed in a future version. Use isinstance(dtype, CategoricalDtype) instead\n",
            "  if pd.api.types.is_categorical_dtype(keys):\n",
            "/home/abshk/anaconda3/envs/nlp/lib/python3.9/site-packages/sweetviz/from_profiling_pandas.py:65: FutureWarning: is_categorical_dtype is deprecated and will be removed in a future version. Use isinstance(dtype, CategoricalDtype) instead\n",
            "  if pd.api.types.is_categorical_dtype(keys):\n",
            "/home/abshk/anaconda3/envs/nlp/lib/python3.9/site-packages/sweetviz/from_profiling_pandas.py:65: FutureWarning: is_categorical_dtype is deprecated and will be removed in a future version. Use isinstance(dtype, CategoricalDtype) instead\n",
            "  if pd.api.types.is_categorical_dtype(keys):\n",
            "/home/abshk/anaconda3/envs/nlp/lib/python3.9/site-packages/sweetviz/from_profiling_pandas.py:65: FutureWarning: is_categorical_dtype is deprecated and will be removed in a future version. Use isinstance(dtype, CategoricalDtype) instead\n",
            "  if pd.api.types.is_categorical_dtype(keys):\n",
            "/home/abshk/anaconda3/envs/nlp/lib/python3.9/site-packages/sweetviz/from_profiling_pandas.py:65: FutureWarning: is_categorical_dtype is deprecated and will be removed in a future version. Use isinstance(dtype, CategoricalDtype) instead\n",
            "  if pd.api.types.is_categorical_dtype(keys):\n",
            "/home/abshk/anaconda3/envs/nlp/lib/python3.9/site-packages/sweetviz/from_profiling_pandas.py:65: FutureWarning: is_categorical_dtype is deprecated and will be removed in a future version. Use isinstance(dtype, CategoricalDtype) instead\n",
            "  if pd.api.types.is_categorical_dtype(keys):\n",
            "/home/abshk/anaconda3/envs/nlp/lib/python3.9/site-packages/sweetviz/from_profiling_pandas.py:65: FutureWarning: is_categorical_dtype is deprecated and will be removed in a future version. Use isinstance(dtype, CategoricalDtype) instead\n",
            "  if pd.api.types.is_categorical_dtype(keys):\n",
            "/home/abshk/anaconda3/envs/nlp/lib/python3.9/site-packages/sweetviz/from_profiling_pandas.py:65: FutureWarning: is_categorical_dtype is deprecated and will be removed in a future version. Use isinstance(dtype, CategoricalDtype) instead\n",
            "  if pd.api.types.is_categorical_dtype(keys):\n",
            "/home/abshk/anaconda3/envs/nlp/lib/python3.9/site-packages/sweetviz/from_profiling_pandas.py:65: FutureWarning: is_categorical_dtype is deprecated and will be removed in a future version. Use isinstance(dtype, CategoricalDtype) instead\n",
            "  if pd.api.types.is_categorical_dtype(keys):\n"
          ]
        },
        {
          "name": "stdout",
          "output_type": "stream",
          "text": [
            "Report Report.html was generated! NOTEBOOK/COLAB USERS: the web browser MAY not pop up, regardless, the report IS saved in your notebook/colab files.\n"
          ]
        },
        {
          "name": "stderr",
          "output_type": "stream",
          "text": [
            "kf.service.services: KApplicationTrader: mimeType \"x-scheme-handler/file\" not found\n"
          ]
        },
        {
          "name": "stdout",
          "output_type": "stream",
          "text": [
            "Opening in existing browser session.\n"
          ]
        }
      ],
      "source": [
        "report = analyze(\"samples/train.csv\")"
      ]
    },
    {
      "cell_type": "markdown",
      "source": [
        "# **Text Content Generation from Wiki via NER:**"
      ],
      "metadata": {
        "id": "L777boTdqgv_"
      }
    },
    {
      "cell_type": "code",
      "execution_count": null,
      "metadata": {
        "id": "krX-rQ5KqMYh",
        "outputId": "8892de03-59fd-48d6-efd6-0255a1b160a7"
      },
      "outputs": [
        {
          "name": "stderr",
          "output_type": "stream",
          "text": [
            "  0%|          | 0/10 [00:00<?, ?it/s]"
          ]
        },
        {
          "name": "stdout",
          "output_type": "stream",
          "text": [
            "Powerpack\n",
            "Powerpack not found. Redirecting to Tesla_Powerpack\n"
          ]
        },
        {
          "name": "stderr",
          "output_type": "stream",
          "text": [
            " 10%|█         | 1/10 [00:01<00:12,  1.40s/it]"
          ]
        },
        {
          "name": "stdout",
          "output_type": "stream",
          "text": [
            "Tesla\n",
            "Tesla not found. Redirecting to Tesla,_Inc.\n"
          ]
        },
        {
          "name": "stderr",
          "output_type": "stream",
          "text": [
            " 20%|██        | 2/10 [00:03<00:15,  1.94s/it]"
          ]
        },
        {
          "name": "stdout",
          "output_type": "stream",
          "text": [
            "Solar Roof\n",
            "Solar Roof not found. Redirecting to Building-integrated_photovoltaics\n"
          ]
        },
        {
          "name": "stderr",
          "output_type": "stream",
          "text": [
            " 30%|███       | 3/10 [00:05<00:13,  1.91s/it]"
          ]
        },
        {
          "name": "stdout",
          "output_type": "stream",
          "text": [
            "Model 3\n",
            "Model 3 not found. Redirecting to Tesla_Model_3\n"
          ]
        },
        {
          "name": "stderr",
          "output_type": "stream",
          "text": [
            " 40%|████      | 4/10 [00:08<00:14,  2.37s/it]"
          ]
        },
        {
          "name": "stdout",
          "output_type": "stream",
          "text": [
            "Tesla Inc.\n",
            "Tesla Inc. not found. Redirecting to Tesla,_Inc.\n"
          ]
        },
        {
          "name": "stderr",
          "output_type": "stream",
          "text": [
            " 50%|█████     | 5/10 [00:11<00:12,  2.43s/it]"
          ]
        },
        {
          "name": "stdout",
          "output_type": "stream",
          "text": [
            "Model X\n",
            "Model X not found. Redirecting to Tesla_Model_X\n"
          ]
        },
        {
          "name": "stderr",
          "output_type": "stream",
          "text": [
            " 60%|██████    | 6/10 [00:15<00:11,  2.93s/it]"
          ]
        },
        {
          "name": "stdout",
          "output_type": "stream",
          "text": [
            "Elon Musk\n",
            "Elon Musk not found. Redirecting to Elon_Musk\n"
          ]
        },
        {
          "name": "stderr",
          "output_type": "stream",
          "text": [
            " 70%|███████   | 7/10 [00:17<00:08,  2.68s/it]"
          ]
        },
        {
          "name": "stdout",
          "output_type": "stream",
          "text": [
            "The Model S\n",
            "The Model S not found. Redirecting to Tesla_Model_S\n"
          ]
        },
        {
          "name": "stderr",
          "output_type": "stream",
          "text": [
            " 80%|████████  | 8/10 [00:19<00:05,  2.64s/it]"
          ]
        },
        {
          "name": "stdout",
          "output_type": "stream",
          "text": [
            "Model Y\n",
            "Model Y not found. Redirecting to Model_Y\n"
          ]
        },
        {
          "name": "stderr",
          "output_type": "stream",
          "text": [
            " 90%|█████████ | 9/10 [00:22<00:02,  2.67s/it]"
          ]
        },
        {
          "name": "stdout",
          "output_type": "stream",
          "text": [
            "Powerwall\n",
            "Powerwall not found. Redirecting to Tesla_Powerwall\n"
          ]
        },
        {
          "name": "stderr",
          "output_type": "stream",
          "text": [
            "100%|██████████| 10/10 [00:24<00:00,  2.43s/it]\n"
          ]
        },
        {
          "data": {
            "text/plain": [
              "({'Powerpack': 'The Tesla Powerpack was a rechargeable lithium-ion battery stationary energy storage product, intended for use by businesses or on smaller projects from power utilities. The device was manufactured by Tesla Energy, the clean energy subsidiary of Tesla, Inc. The Powerpack stores electricity for time of use load shifting, backup power, demand response, microgrids, renewable energy integration, frequency regulation, and voltage control. The first prototype Powerpacks were installed in 2012 at the locations of a few industrial customers. After July 22, 2022, the product was no longer listed for sale.Tesla Energy also offers other battery energy storage devices: the Powerwall, intended for home use, and the Megapack, intended for electrical grid use.',\n",
              "  'Tesla': \"Tesla, Inc. (/ˈtɛslə/ TESS-lə or /ˈtɛzlə/ TEZ-lə) is an American multinational automotive and clean energy company headquartered in Austin, Texas, which designs and manufactures electric vehicles (cars and trucks), stationary battery energy storage devices from home to grid-scale, solar panels and solar shingles, and related products and services. Its subsidiary Tesla Energy develops and is a major installer of photovoltaic systems in the United States and is one of the largest global suppliers of battery energy storage systems with 6.5 gigawatt-hours (GWh) installed in 2022.Tesla is one of the world's most valuable companies and, as of 2023, is the world's most valuable automaker. In 2022, the company led the battery electric vehicle market, with 18% share.\",\n",
              "  'Solar Roof': \"Building-integrated photovoltaics (BIPV) are photovoltaic materials that are used to replace conventional building materials in parts of the building envelope such as the roof, skylights, or façades. They are increasingly being incorporated into the construction of new buildings as a principal or ancillary source of electrical power, although existing buildings may be retrofitted with similar technology. The advantage of integrated photovoltaics over more common non-integrated systems is that the initial cost can be offset by reducing the amount spent on building materials and labor that would normally be used to construct the part of the building that the BIPV modules replace. In addition, BIPV allows for more widespread solar adoption when the building's aesthetics matter and traditional rack-mounted solar panels would disrupt the intended look of the building.The term building-applied photovoltaics (BAPV) is sometimes used to refer to photovoltaics that are retrofit – integrated into the building after construction is complete. Most building-integrated installations are actually BAPV. Some manufacturers and builders differentiate new construction BIPV from BAPV.PV applications for buildings began appearing in the 1970s. Aluminum-framed photovoltaic modules were connected to, or mounted on, buildings that were usually in remote areas without access to an electric power grid. In the 1980s photovoltaic module add-ons to roofs began being demonstrated. These PV systems were usually installed on utility-grid-connected buildings in areas with centralized power stations. In the 1990s BIPV construction products specially designed to be integrated into a building envelope became commercially available. A 1998 doctoral thesis by Patrina Eiffert, entitled An Economic Assessment of BIPV, hypothesized that one day there would an economic value for trading Renewable Energy Credits (RECs). A 2011 economic assessment and brief overview of the history of BIPV by the U.S. National Renewable Energy Laboratory suggests that there may be significant technical challenges to overcome before the installed cost of BIPV is competitive with photovoltaic panels. However, there is a growing consensus that through their widespread commercialization, BIPV systems will become the backbone of the zero energy building (ZEB) European target for 2020. Despite the technical promise, social barriers to widespread use have also been identified, such as the conservative culture of the building industry and integration with high-density urban design. These authors suggest enabling long-term use likely depends on effective public policy decisions as much as the technological development.\",\n",
              "  'Model 3': \"The Tesla Model 3 is a battery electric compact executive car with a fastback body style built by Tesla, Inc. since 2017. The Model 3 was marketed as being more affordable to more people than previous models by Tesla. The Model 3 was the world's top selling plug-in electric car for three years, from 2018 to 2020, before being knocked from the top spot by the Tesla Model Y, a crossover SUV based on the Model 3 chassis. In June 2021, the Model 3 became the first electric car to pass global sales of 1 million. A refresh of the Tesla Model 3 was introduced in 2023, offering a revised exterior and interior.In an interview for Wired Science recorded during 2006, Elon Musk presented the Model 3 as likely being affordable by most people able to purchase new cars, aiming for a $30,000 price point. In 2008 the car was stated to be a family car. In 2017 Tesla added that the Standard Range version of the all-electric car would have an estimated EPA-rated range of 215 miles (346 km), a five-passenger seating capacity, front and rear trunks, and promised sports-car levels of acceleration performance.[better source needed] Tesla said it would have a 5-Star safety rating and have a drag coefficient of Cd=0.225. This is lower than the Tesla Model S drag coefficient of Cd=0.24, which, in 2014, was the lowest among the production cars of the time.\",\n",
              "  'Tesla Inc.': \"Tesla, Inc. (/ˈtɛslə/ TESS-lə or /ˈtɛzlə/ TEZ-lə) is an American multinational automotive and clean energy company headquartered in Austin, Texas, which designs and manufactures electric vehicles (cars and trucks), stationary battery energy storage devices from home to grid-scale, solar panels and solar shingles, and related products and services. Its subsidiary Tesla Energy develops and is a major installer of photovoltaic systems in the United States and is one of the largest global suppliers of battery energy storage systems with 6.5 gigawatt-hours (GWh) installed in 2022.Tesla is one of the world's most valuable companies and, as of 2023, is the world's most valuable automaker. In 2022, the company led the battery electric vehicle market, with 18% share.\",\n",
              "  'Model X': 'The Tesla Model X is a battery electric mid-size luxury crossover SUV built by Tesla, Inc. since 2015. Developed from the full-sized sedan platform of the Tesla Model S, the vehicle notably uses falcon wing doors for passenger access.The Model X has an EPA size class as an SUV, and shares around 30 percent of its content with the Model S, half of the originally planned 60 percent, and weighs about 10 percent more. Both the Model X and Model S are produced at the Tesla Factory in Fremont, California. The prototype was unveiled at Tesla\\'s design studios in Hawthorne, California on February 9, 2012. First deliveries of the Model X began in September 2015. After one full year on the market, in 2016, the Model X ranked seventh among the world\\'s best-selling plug-in cars. A refresh of the Tesla Model X was introduced in 2021, offering a new \"Plaid\" performance model, along with a revised interior, powertrain, and suspension.',\n",
              "  'Elon Musk': \"Elon Reeve Musk (/ˈiːlɒn/ EE-lon; born June 28, 1971) is a businessman and investor. He is the wealthiest person in the world, with an estimated net worth of US$222 billion as of December 2023, according to the Bloomberg Billionaires Index, and $244 billion according to Forbes, primarily from his ownership stakes in Tesla and SpaceX. He is the founder, chairman, CEO, and chief technology officer of SpaceX; angel investor, CEO, product architect and former chairman of Tesla, Inc.; owner, chairman and CTO of X Corp.; founder of the Boring Company and xAI; co-founder of Neuralink and OpenAI; and president of the Musk Foundation.A member of the wealthy South African Musk family, Elon was born in Pretoria and briefly attended the University of Pretoria before immigrating to Canada at age 18, acquiring citizenship through his Canadian-born mother. Two years later, he matriculated at Queen's University at Kingston in Canada. Musk later transferred to the University of Pennsylvania, and received bachelor's degrees in economics and physics. He moved to California in 1995 to attend Stanford University. However, Musk dropped out after two days and, with his brother Kimbal, co-founded online city guide software company Zip2. The startup was acquired by Compaq for $307 million in 1999, and, that same year Musk co-founded X.com, a direct bank. X.com merged with Confinity in 2000 to form PayPal.\",\n",
              "  'The Model S': 'The Tesla Model S is a battery electric full-size car with a liftback body style built by Tesla, Inc. since 2012. The Model S features a battery-powered dual-motor, all-wheel drive layout, although earlier versions featured a rear-motor and rear-wheel drive layout.Development of the Model S began prior to 2007, under the codename \"WhiteStar\". The Model S was officially announced on June 30, 2008, and a prototype vehicle was unveiled in March 2009. The Model S debuted on June 22, 2012. A revised, dual-motor, all-wheel-drive version, known as the 60D, debuted on October 9, 2014. The 60D was followed by the 70D, which made dual-motor and all-wheel drive the standard, followed by the 85D, P85D, and P90D. Along with these updates, Tesla offered the Autopilot driving assistance system. The first major design refresh came in April 2016 when the Model S was updated with a new front hood design. In October of the same year, hardware became standard that supports Tesla\\'s Full Self Driving (FSD) capability. As part of the update, integrated standard cameras around the car were added. In February 2017 the Tesla Model S P100D debuted, which included a revised motor and was the first electric vehicle to have an EPA estimated range exceeding 300 miles (483 km). The second major design refresh, codenamed \"Palladium\", was introduced in June 2021, offering a new \"Plaid\" performance model, along with a revised interior, powertrain, and suspension.',\n",
              "  'Model Y': 'Model Y may refer to:',\n",
              "  'Powerwall': \"The Tesla Powerwall is a rechargeable lithium-ion battery stationary home energy storage product manufactured by Tesla Energy. The Powerwall stores electricity for solar self-consumption, time of use load shifting, and backup power. The Powerwall was introduced in 2015 with limited production. Mass production started in early 2017 at Tesla's Giga Nevada factory. As of May 2021, Tesla has installed 200,000 Powerwalls.Tesla Energy also offers the Megapack, a large battery energy storage device intended for electrical grid use.\"},\n",
              " {' Elon Musk',\n",
              "  ' Model 3',\n",
              "  ' Model X',\n",
              "  ' Model Y',\n",
              "  ' Powerpack',\n",
              "  ' Powerwall',\n",
              "  ' Solar Roof',\n",
              "  ' Tesla',\n",
              "  ' The Model S',\n",
              "  'Tesla Inc.'})"
            ]
          },
          "execution_count": 24,
          "metadata": {},
          "output_type": "execute_result"
        }
      ],
      "source": [
        "#Content Generation based on important keywords from a text snippet:\n",
        "\n",
        "text = \"\"\"In the heart of technological innovation, Tesla Inc. emerges as a pioneering force, pushing the boundaries of electric mobility and sustainable energy solutions. Founded by Elon Musk, Tesla has become synonymous with cutting-edge electric vehicles, where sleek designs meet unparalleled performance. The Model S, Model X, Model 3, and Model Y have redefined the automotive landscape, blending high-performance capabilities with a commitment to reducing our carbon footprint.\n",
        "Beyond electric cars, Tesla has made waves in energy storage and solar technology. The Powerwall and Powerpack offer scalable energy storage solutions, while the Solar Roof seamlessly integrates solar technology into residential architecture, fostering a vision of a cleaner, more sustainable future.\n",
        "As Tesla continues to steer the automotive and energy industries towards innovation, its relentless pursuit of advancements in artificial intelligence, autonomous driving, and renewable energy cements its status as a transformative force in the modern era. The story of Tesla unfolds at the intersection of innovation, sustainability, and a vision for a planet powered by clean energy.\"\"\"\n",
        "\n",
        "content = get_details(text)\n",
        "content"
      ]
    },
    {
      "cell_type": "markdown",
      "source": [
        "# **RAG Implementation - Document Loading, Embedding, Querying**"
      ],
      "metadata": {
        "id": "zfRRhHeyqsrX"
      }
    },
    {
      "cell_type": "markdown",
      "source": [
        "Scanned Marksheet:"
      ],
      "metadata": {
        "id": "gFmACZv-q3wD"
      }
    },
    {
      "cell_type": "code",
      "execution_count": null,
      "metadata": {
        "colab": {
          "referenced_widgets": [
            "c3955197aaf044198371459c67b754db",
            "1617edf9c231495db19ab78b59def2c9",
            "f792ef16d861420e80141b21435541a5",
            "90d8b9c0f22c427892b2fe7f2db13d29",
            "d82c60e899cf4628b34e449f93a6d715"
          ]
        },
        "id": "PlCEpqpHqMYh",
        "outputId": "d08f08f0-18a7-49d9-b015-25a2fa4f05af"
      },
      "outputs": [
        {
          "name": "stdout",
          "output_type": "stream",
          "text": [
            "documents/OCR-marksheet.pdf\n"
          ]
        },
        {
          "data": {
            "application/vnd.jupyter.widget-view+json": {
              "model_id": "c3955197aaf044198371459c67b754db",
              "version_major": 2,
              "version_minor": 0
            },
            "text/plain": [
              "Output()"
            ]
          },
          "metadata": {},
          "output_type": "display_data"
        },
        {
          "data": {
            "text/html": [
              "<pre style=\"white-space:pre;overflow-x:auto;line-height:normal;font-family:Menlo,'DejaVu Sans Mono',consolas,'Courier New',monospace\"></pre>\n"
            ],
            "text/plain": []
          },
          "metadata": {},
          "output_type": "display_data"
        },
        {
          "data": {
            "text/html": [
              "<pre style=\"white-space:pre;overflow-x:auto;line-height:normal;font-family:Menlo,'DejaVu Sans Mono',consolas,'Courier New',monospace\">\n",
              "</pre>\n"
            ],
            "text/plain": [
              "\n"
            ]
          },
          "metadata": {},
          "output_type": "display_data"
        },
        {
          "data": {
            "application/vnd.jupyter.widget-view+json": {
              "model_id": "1617edf9c231495db19ab78b59def2c9",
              "version_major": 2,
              "version_minor": 0
            },
            "text/plain": [
              "Output()"
            ]
          },
          "metadata": {},
          "output_type": "display_data"
        },
        {
          "data": {
            "text/html": [
              "<pre style=\"white-space:pre;overflow-x:auto;line-height:normal;font-family:Menlo,'DejaVu Sans Mono',consolas,'Courier New',monospace\"></pre>\n"
            ],
            "text/plain": []
          },
          "metadata": {},
          "output_type": "display_data"
        },
        {
          "data": {
            "text/html": [
              "<pre style=\"white-space:pre;overflow-x:auto;line-height:normal;font-family:Menlo,'DejaVu Sans Mono',consolas,'Courier New',monospace\">\n",
              "</pre>\n"
            ],
            "text/plain": [
              "\n"
            ]
          },
          "metadata": {},
          "output_type": "display_data"
        },
        {
          "data": {
            "application/vnd.jupyter.widget-view+json": {
              "model_id": "f792ef16d861420e80141b21435541a5",
              "version_major": 2,
              "version_minor": 0
            },
            "text/plain": [
              "Output()"
            ]
          },
          "metadata": {},
          "output_type": "display_data"
        },
        {
          "data": {
            "text/html": [
              "<pre style=\"white-space:pre;overflow-x:auto;line-height:normal;font-family:Menlo,'DejaVu Sans Mono',consolas,'Courier New',monospace\"></pre>\n"
            ],
            "text/plain": []
          },
          "metadata": {},
          "output_type": "display_data"
        },
        {
          "data": {
            "text/html": [
              "<pre style=\"white-space:pre;overflow-x:auto;line-height:normal;font-family:Menlo,'DejaVu Sans Mono',consolas,'Courier New',monospace\">\n",
              "</pre>\n"
            ],
            "text/plain": [
              "\n"
            ]
          },
          "metadata": {},
          "output_type": "display_data"
        },
        {
          "data": {
            "application/vnd.jupyter.widget-view+json": {
              "model_id": "90d8b9c0f22c427892b2fe7f2db13d29",
              "version_major": 2,
              "version_minor": 0
            },
            "text/plain": [
              "Output()"
            ]
          },
          "metadata": {},
          "output_type": "display_data"
        },
        {
          "data": {
            "text/html": [
              "<pre style=\"white-space:pre;overflow-x:auto;line-height:normal;font-family:Menlo,'DejaVu Sans Mono',consolas,'Courier New',monospace\"></pre>\n"
            ],
            "text/plain": []
          },
          "metadata": {},
          "output_type": "display_data"
        },
        {
          "data": {
            "text/html": [
              "<pre style=\"white-space:pre;overflow-x:auto;line-height:normal;font-family:Menlo,'DejaVu Sans Mono',consolas,'Courier New',monospace\">\n",
              "</pre>\n"
            ],
            "text/plain": [
              "\n"
            ]
          },
          "metadata": {},
          "output_type": "display_data"
        },
        {
          "data": {
            "application/vnd.jupyter.widget-view+json": {
              "model_id": "d82c60e899cf4628b34e449f93a6d715",
              "version_major": 2,
              "version_minor": 0
            },
            "text/plain": [
              "Output()"
            ]
          },
          "metadata": {},
          "output_type": "display_data"
        },
        {
          "data": {
            "text/html": [
              "<pre style=\"white-space:pre;overflow-x:auto;line-height:normal;font-family:Menlo,'DejaVu Sans Mono',consolas,'Courier New',monospace\"></pre>\n"
            ],
            "text/plain": []
          },
          "metadata": {},
          "output_type": "display_data"
        },
        {
          "data": {
            "text/html": [
              "<pre style=\"white-space:pre;overflow-x:auto;line-height:normal;font-family:Menlo,'DejaVu Sans Mono',consolas,'Courier New',monospace\">\n",
              "</pre>\n"
            ],
            "text/plain": [
              "\n"
            ]
          },
          "metadata": {},
          "output_type": "display_data"
        },
        {
          "name": "stdout",
          "output_type": "stream",
          "text": [
            "load INSTRUCTOR_Transformer\n",
            "max_seq_length  512\n",
            "Exisiting vectorDB found\n",
            "Vector Embeddings for this file already exists\n",
            "Document Embedded!\n",
            "load INSTRUCTOR_Transformer\n",
            "max_seq_length  512\n",
            "\n",
            " The subjects that are present in the certificate are:\n",
            "\n",
            "* Fundamentals of Digital Systems\n",
            "* Engineering Mathematics I\n",
            "* Engineering Physics I\n",
            "* Engineering Chemistry I\n",
            "* Technical English\n",
            "\n",
            "The total CGPA is 9.2.\n"
          ]
        }
      ],
      "source": [
        "#DOCUMENT LOADING AND QUERYING:\n",
        "\n",
        "q=\"What are the subjects that are present in the certificate and what is my total CGPA?\"\n",
        "\n",
        "embed(\"samples/marksheet.jpg\", scanned=True) #Gets text via OCR and then embeds it automatically\n",
        "rqa = get_pipe(model_type)\n",
        "response=get_answer(query=q, RQA=rqa, palm=True)\n",
        "\n",
        "print(\"\\n\",response[1])"
      ]
    },
    {
      "cell_type": "markdown",
      "source": [
        "PDF Text Document:"
      ],
      "metadata": {
        "id": "6EqjZmESq-o0"
      }
    },
    {
      "cell_type": "code",
      "execution_count": null,
      "metadata": {
        "id": "5-4EWFSOqMYi",
        "outputId": "7ab56e98-1110-45c9-dde0-68a70eb5fb58"
      },
      "outputs": [
        {
          "name": "stdout",
          "output_type": "stream",
          "text": [
            "load INSTRUCTOR_Transformer\n",
            "max_seq_length  512\n",
            "Exisiting vectorDB found\n",
            "Vector Embeddings for this file already exists\n",
            "Document Embedded!\n",
            "\n",
            " The steps involved in SSH automation are as follows:\n",
            "\n",
            "1. Install openssh-server on both the source and destination machines.\n",
            "2. Create a parameter text file that specifies the destination machines and the users who should be able to access them.\n",
            "3. Create a Python executable that uses the parameter text file to automate the SSH connection process.\n",
            "4. Run the Python executable.\n",
            "\n",
            "The Python executable will check for known hosts, generate a signed certificate, and then SSH to the destination machines using the signed certificate and the source's private key as the identity file.\n"
          ]
        }
      ],
      "source": [
        "q=\"Summarize the steps involved in SSH automation\"\n",
        "embed(\"samples/techdocument.pdf\")\n",
        "response=get_answer(query=q, RQA=rqa, palm=True)\n",
        "print(\"\\n\",response[1])"
      ]
    },
    {
      "cell_type": "markdown",
      "source": [
        "# **Daily News Data:**"
      ],
      "metadata": {
        "id": "ozp5u-f0rEze"
      }
    },
    {
      "cell_type": "code",
      "execution_count": null,
      "metadata": {
        "id": "yWMSud_aqMYi",
        "outputId": "dd1179c0-3cfe-4933-9b8b-f341bb533776"
      },
      "outputs": [
        {
          "name": "stdout",
          "output_type": "stream",
          "text": [
            "-- News Articles Collected: 102\n",
            "\n",
            "-- Processing: 96\n",
            "\n",
            "-- Completed\n"
          ]
        }
      ],
      "source": [
        "import pandas as pd\n",
        "df=get_news(\"India\")"
      ]
    },
    {
      "cell_type": "code",
      "execution_count": null,
      "metadata": {
        "id": "bTlV5e2-qMYj",
        "outputId": "75dc4570-3d8c-4b2a-8a44-4839115f7975"
      },
      "outputs": [
        {
          "data": {
            "text/html": [
              "<div>\n",
              "<style scoped>\n",
              "    .dataframe tbody tr th:only-of-type {\n",
              "        vertical-align: middle;\n",
              "    }\n",
              "\n",
              "    .dataframe tbody tr th {\n",
              "        vertical-align: top;\n",
              "    }\n",
              "\n",
              "    .dataframe thead th {\n",
              "        text-align: right;\n",
              "    }\n",
              "</style>\n",
              "<table border=\"1\" class=\"dataframe\">\n",
              "  <thead>\n",
              "    <tr style=\"text-align: right;\">\n",
              "      <th></th>\n",
              "      <th>Date</th>\n",
              "      <th>Text</th>\n",
              "    </tr>\n",
              "  </thead>\n",
              "  <tbody>\n",
              "    <tr>\n",
              "      <th>0</th>\n",
              "      <td>None</td>\n",
              "      <td>Amit Shah: ‘Supreme Court verdict proved that ...</td>\n",
              "    </tr>\n",
              "    <tr>\n",
              "      <th>1</th>\n",
              "      <td>2023-12-11 11:25:51+05:00</td>\n",
              "      <td>India’s Supreme Court on Monday ruled in a una...</td>\n",
              "    </tr>\n",
              "    <tr>\n",
              "      <th>2</th>\n",
              "      <td>2023-12-12 00:00:00</td>\n",
              "      <td>A man walks past a new brand identity for Nift...</td>\n",
              "    </tr>\n",
              "    <tr>\n",
              "      <th>3</th>\n",
              "      <td>2023-12-12 00:00:00</td>\n",
              "      <td>Pedestrians walk towards the Chhatrapati Shiva...</td>\n",
              "    </tr>\n",
              "    <tr>\n",
              "      <th>4</th>\n",
              "      <td>None</td>\n",
              "      <td>Strong results, sectoral rotations aid rally: ...</td>\n",
              "    </tr>\n",
              "    <tr>\n",
              "      <th>...</th>\n",
              "      <td>...</td>\n",
              "      <td>...</td>\n",
              "    </tr>\n",
              "    <tr>\n",
              "      <th>88</th>\n",
              "      <td>2023-12-11 08:15:40</td>\n",
              "      <td>SRINAGAR, India (AP) — India’s top court on Mo...</td>\n",
              "    </tr>\n",
              "    <tr>\n",
              "      <th>89</th>\n",
              "      <td>2023-12-11 14:20:47+05:30</td>\n",
              "      <td>New Delhi: The Supreme Court by upholding the ...</td>\n",
              "    </tr>\n",
              "    <tr>\n",
              "      <th>90</th>\n",
              "      <td>2023-12-12 04:22:13+05:30</td>\n",
              "      <td>The return to the Old Pension Scheme (OPS) by ...</td>\n",
              "    </tr>\n",
              "    <tr>\n",
              "      <th>91</th>\n",
              "      <td>2023-12-10 16:53:29+05:30</td>\n",
              "      <td>India vs South Africa 1st T20: The world's num...</td>\n",
              "    </tr>\n",
              "    <tr>\n",
              "      <th>92</th>\n",
              "      <td>2023-12-11 00:00:00</td>\n",
              "      <td>Days after she was expelled as a Lok Sabha MP ...</td>\n",
              "    </tr>\n",
              "  </tbody>\n",
              "</table>\n",
              "<p>93 rows × 2 columns</p>\n",
              "</div>"
            ],
            "text/plain": [
              "                         Date  \\\n",
              "0                        None   \n",
              "1   2023-12-11 11:25:51+05:00   \n",
              "2         2023-12-12 00:00:00   \n",
              "3         2023-12-12 00:00:00   \n",
              "4                        None   \n",
              "..                        ...   \n",
              "88        2023-12-11 08:15:40   \n",
              "89  2023-12-11 14:20:47+05:30   \n",
              "90  2023-12-12 04:22:13+05:30   \n",
              "91  2023-12-10 16:53:29+05:30   \n",
              "92        2023-12-11 00:00:00   \n",
              "\n",
              "                                                 Text  \n",
              "0   Amit Shah: ‘Supreme Court verdict proved that ...  \n",
              "1   India’s Supreme Court on Monday ruled in a una...  \n",
              "2   A man walks past a new brand identity for Nift...  \n",
              "3   Pedestrians walk towards the Chhatrapati Shiva...  \n",
              "4   Strong results, sectoral rotations aid rally: ...  \n",
              "..                                                ...  \n",
              "88  SRINAGAR, India (AP) — India’s top court on Mo...  \n",
              "89  New Delhi: The Supreme Court by upholding the ...  \n",
              "90  The return to the Old Pension Scheme (OPS) by ...  \n",
              "91  India vs South Africa 1st T20: The world's num...  \n",
              "92  Days after she was expelled as a Lok Sabha MP ...  \n",
              "\n",
              "[93 rows x 2 columns]"
            ]
          },
          "execution_count": 5,
          "metadata": {},
          "output_type": "execute_result"
        }
      ],
      "source": [
        "df"
      ]
    },
    {
      "cell_type": "code",
      "execution_count": null,
      "metadata": {
        "id": "hXYX2dzGqMYj",
        "outputId": "affb75a4-332f-47a2-b63a-5876197849e3"
      },
      "outputs": [
        {
          "data": {
            "text/plain": [
              "'The return to the Old Pension Scheme (OPS) by a few states would put a huge burden on their finances, restricting them from undertaking capital expenditure to drive the growth, a report released by the Reserve Bank of India said. Any reversion to OPS by the states will be a major step backwards, undermining the benefits of past reforms and compromising the interest of future generations, the RBI said in State Finances: A Study of Budgets of 2023-24, released on Monday.\\n\\n“The return to the Old Pension Scheme (OPS) by a few states and reports of some other states moving in the same direction would exert a huge burden on state finances and restrict their capacity to undertake growth-enhancing capital expenditures,” the report said.\\n\\nThe OPS is a defined benefit (DB) scheme under which, after retirement, state government employees get a pension fixed at 50 per cent of the last drawn salary. The NPS is a defined contribution (DC) scheme in which the employees’ defined contribution is 10 per cent of basic salary and dearness allowances, with a matching contribution from the state government.\\n\\nAdvertisement\\n\\nIn a recent report, Elara Securities India said that the Bharatiya Janata Party (BJP)’s win will see a readoption of the NPS is states, such as Rajasthan and Chhattisgarh where the Congress had shifted to OPS, but would see adoption of the old scheme in Telangana, where Congress has won.\\n\\nInternal estimates suggest that if all the state governments revert to OPS from the NPS, the cumulative fiscal burden could be as high as 4.5 times that of NPS, with the additional burden reaching 0.9 per cent of GDP annually by 2060, the RBI’s report said. This will add to the pension burden of older OPS retirees whose last batch is expected to retire by early 2040s and, therefore, draw pension under the OPS till the 2060s, it said. The report further said that states envisage a continuation of prudent fiscal management for 2023-24, with the consolidated gross fiscal deficit (GFD) budgeted at 3.1 per cent of GDP.\\n\\nStates’ total outstanding liabilities are budgeted to fall to 27.6 per cent of GDP for 2023-24 from the peak of 31 per cent in 2020-21. However, outstanding liabilities may remain higher than 30 per cent of gross state domestic product (GSDP) for many states.\\n\\nThe implementation of goods and services tax (GST) has led to increased tax buoyancy for the states. While the overall tax efforts of the states are strong, further improvement in tax revenues will require them to strengthen their tax capacity, including through tax reforms and effective and innovative tax administration, it said In case of non-tax revenues, there is considerable scope for states to increase them through revisions of user charges on electricity, water and other public services, royalties and premiums from mining, and better financial management of their public sector units (PSUs), the report said.'"
            ]
          },
          "execution_count": 11,
          "metadata": {},
          "output_type": "execute_result"
        }
      ],
      "source": [
        "#A news article\n",
        "df.iloc[90,1]"
      ]
    },
    {
      "cell_type": "markdown",
      "source": [
        "# **10 points - Text Summarization:**"
      ],
      "metadata": {
        "id": "KPid-sKgrWym"
      }
    },
    {
      "cell_type": "markdown",
      "source": [
        "News article:"
      ],
      "metadata": {
        "id": "62gYFeSmriIJ"
      }
    },
    {
      "cell_type": "code",
      "execution_count": null,
      "metadata": {
        "id": "bpjAAqV9qMYk",
        "outputId": "d22552b4-03d7-4834-c34e-790df524eb0c"
      },
      "outputs": [
        {
          "name": "stdout",
          "output_type": "stream",
          "text": [
            "Here are 10 points summarizing the text content:\n",
            "\n",
            "1. The Reserve Bank of India (RBI) has warned that the return to the Old Pension Scheme (OPS) by a few states would put a huge burden on their finances.\n",
            "2. The RBI said that any reversion to OPS by the states will be a major step backwards, undermining the benefits of past reforms and compromising the interest of future generations.\n",
            "3. The OPS is a defined benefit (DB) scheme under which, after retirement, state government employees get a pension fixed at 50 per cent of the last drawn salary.\n",
            "4. The National Pension System (NPS) is a defined contribution (DC) scheme in which the employees’ defined contribution is 10 per cent of basic salary and dearness allowances, with a matching contribution from the state government.\n",
            "5. The RBI said that internal estimates suggest that if all the state governments revert to OPS from the NPS, the cumulative fiscal burden could be as high as 4.5 times that of NPS, with the additional burden reaching 0.9 per cent of GDP annually by 2060.\n",
            "6. The RBI said that the states envisage a continuation of prudent fiscal management for 2023-24, with the consolidated gross fiscal deficit (GFD) budgeted at 3.1 per cent of GDP.\n",
            "7. States’ total outstanding liabilities are budgeted to fall to 27.6 per cent of GDP for 2023-24 from the peak of 31 per cent in 2020-21. However, outstanding liabilities may remain higher than 30 per cent of gross state domestic product (GSDP) for many states.\n",
            "8. The implementation of goods and services tax (GST) has led to increased tax buoyancy for the states. While the overall tax efforts of the states are strong, further improvement in tax revenues will require them to strengthen their tax capacity, including through tax reforms and effective and innovative tax administration.\n",
            "9. In case of non-tax revenues, there is considerable scope for states to increase them through revisions of user charges on electricity, water and other public services, royalties and premiums from mining, and better financial management of their public sector units (PSUs).\n",
            "10. The RBI said that the states need to focus on improving their fiscal health and strengthening their revenue base to ensure sustainable growth.\n"
          ]
        }
      ],
      "source": [
        "summary=ask_palm(df.iloc[90,1], summary=True)\n",
        "print(summary)"
      ]
    },
    {
      "cell_type": "code",
      "execution_count": null,
      "metadata": {
        "id": "iL9-wRqDqMYk",
        "outputId": "bcbc737b-dcf4-4ad2-b5e3-34f61c32fada"
      },
      "outputs": [
        {
          "data": {
            "text/plain": [
              "\"Building-integrated photovoltaics (BIPV) are photovoltaic materials that are used to replace conventional building materials in parts of the building envelope such as the roof, skylights, or façades. They are increasingly being incorporated into the construction of new buildings as a principal or ancillary source of electrical power, although existing buildings may be retrofitted with similar technology. The advantage of integrated photovoltaics over more common non-integrated systems is that the initial cost can be offset by reducing the amount spent on building materials and labor that would normally be used to construct the part of the building that the BIPV modules replace. In addition, BIPV allows for more widespread solar adoption when the building's aesthetics matter and traditional rack-mounted solar panels would disrupt the intended look of the building.The term building-applied photovoltaics (BAPV) is sometimes used to refer to photovoltaics that are retrofit – integrated into the building after construction is complete. Most building-integrated installations are actually BAPV. Some manufacturers and builders differentiate new construction BIPV from BAPV.PV applications for buildings began appearing in the 1970s. Aluminum-framed photovoltaic modules were connected to, or mounted on, buildings that were usually in remote areas without access to an electric power grid. In the 1980s photovoltaic module add-ons to roofs began being demonstrated. These PV systems were usually installed on utility-grid-connected buildings in areas with centralized power stations. In the 1990s BIPV construction products specially designed to be integrated into a building envelope became commercially available. A 1998 doctoral thesis by Patrina Eiffert, entitled An Economic Assessment of BIPV, hypothesized that one day there would an economic value for trading Renewable Energy Credits (RECs). A 2011 economic assessment and brief overview of the history of BIPV by the U.S. National Renewable Energy Laboratory suggests that there may be significant technical challenges to overcome before the installed cost of BIPV is competitive with photovoltaic panels. However, there is a growing consensus that through their widespread commercialization, BIPV systems will become the backbone of the zero energy building (ZEB) European target for 2020. Despite the technical promise, social barriers to widespread use have also been identified, such as the conservative culture of the building industry and integration with high-density urban design. These authors suggest enabling long-term use likely depends on effective public policy decisions as much as the technological development.\""
            ]
          },
          "execution_count": 28,
          "metadata": {},
          "output_type": "execute_result"
        }
      ],
      "source": [
        "content[0]['Solar Roof']"
      ]
    },
    {
      "cell_type": "markdown",
      "source": [
        "Wiki content from NER:"
      ],
      "metadata": {
        "id": "3jWPtAaGrzBf"
      }
    },
    {
      "cell_type": "code",
      "execution_count": null,
      "metadata": {
        "id": "cOfNTOFbqMYl",
        "outputId": "60d7e09c-9b28-4d12-bb6e-719ebb7d88a0"
      },
      "outputs": [
        {
          "name": "stdout",
          "output_type": "stream",
          "text": [
            "Here are 10 points that summarize the text content:\n",
            "\n",
            "1. BIPV are photovoltaic materials that are used to replace conventional building materials in parts of the building envelope.\n",
            "2. BIPV are increasingly being incorporated into the construction of new buildings as a principal or ancillary source of electrical power.\n",
            "3. The advantage of BIPV over more common non-integrated systems is that the initial cost can be offset by reducing the amount spent on building materials and labor.\n",
            "4. BIPV allows for more widespread solar adoption when the building's aesthetics matter.\n",
            "5. The term BAPV is sometimes used to refer to photovoltaics that are retrofit – integrated into the building after construction is complete.\n",
            "6. PV applications for buildings began appearing in the 1970s.\n",
            "7. A 1998 doctoral thesis by Patrina Eiffert hypothesized that one day there would an economic value for trading Renewable Energy Credits (RECs).\n",
            "8. A 2011 economic assessment and brief overview of the history of BIPV by the U.S. National Renewable Energy Laboratory suggests that there may be significant technical challenges to overcome before the installed cost of BIPV is competitive with photovoltaic panels.\n",
            "9. There is a growing consensus that through their widespread commercialization, BIPV systems will become the backbone of the zero energy building (ZEB) European target for 2020.\n",
            "10. Despite the technical promise, social barriers to widespread use have also been identified.\n"
          ]
        }
      ],
      "source": [
        "summary=ask_palm(content[0]['Solar Roof'], summary=True)\n",
        "print(summary)"
      ]
    }
  ],
  "metadata": {
    "kernelspec": {
      "display_name": "Python 3 (ipykernel)",
      "language": "python",
      "name": "python3"
    },
    "language_info": {
      "codemirror_mode": {
        "name": "ipython",
        "version": 3
      },
      "file_extension": ".py",
      "mimetype": "text/x-python",
      "name": "python",
      "nbconvert_exporter": "python",
      "pygments_lexer": "ipython3",
      "version": "3.9.18"
    },
    "colab": {
      "provenance": []
    }
  },
  "nbformat": 4,
  "nbformat_minor": 0
}