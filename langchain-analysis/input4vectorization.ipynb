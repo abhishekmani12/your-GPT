{
 "cells": [
  {
   "cell_type": "code",
   "execution_count": 8,
   "id": "8d56c7ba-7001-498d-9934-a3f8e6a0507f",
   "metadata": {},
   "outputs": [],
   "source": [
    "from langchain.document_loaders import PyMuPDFLoader\n",
    "\n",
    "loader = PyMuPDFLoader(\"sample.pdf\")\n",
    "data = loader.load()"
   ]
  },
  {
   "cell_type": "code",
   "execution_count": 10,
   "id": "6f26ce6c-e283-4905-8a0e-b3c9b13ff669",
   "metadata": {},
   "outputs": [
    {
     "data": {
      "text/plain": [
       "[Document(page_content='', metadata={'source': 'sample.pdf', 'file_path': 'sample.pdf', 'page': 0, 'total_pages': 8, 'format': 'PDF 1.7', 'title': 'Slide 1', 'author': 'hp', 'subject': '', 'keywords': '', 'creator': 'Microsoft® PowerPoint® 2019', 'producer': 'Microsoft® PowerPoint® 2019', 'creationDate': \"D:20220727234634+05'30'\", 'modDate': \"D:20220727234634+05'30'\", 'trapped': ''}),\n",
       " Document(page_content='Job satisfaction refers to a person’s feeling of satisfaction on the job, which\\nacts as a motivation to work. It is not the self-satisfaction, happiness or self-\\ncontentment but the satisfaction on the job.\\nJob satisfaction is defined as the, “pleasurable emotional state resulting from\\nthe appraisal of one’s job as achieving or facilitating the achievement of one’s job\\nvalues.”\\nHoppock offered one of the earliest definitions of job satisfaction when he\\ndescribed the construct as being any number of psychological, physiological, and\\nenvironmental circumstances which leads a person to express satisfaction with their\\njob.\\nSmith et al. (1969) defined job satisfaction as the feeling an individual has\\nabout his or her job.\\nLocke (1969) suggested that job satisfaction was a positive or pleasurable\\nreaction resulting from the appraisal of one’s job, job achievement, or job\\nexperiences.\\nJOB SATISFACTION\\n', metadata={'source': 'sample.pdf', 'file_path': 'sample.pdf', 'page': 1, 'total_pages': 8, 'format': 'PDF 1.7', 'title': 'Slide 1', 'author': 'hp', 'subject': '', 'keywords': '', 'creator': 'Microsoft® PowerPoint® 2019', 'producer': 'Microsoft® PowerPoint® 2019', 'creationDate': \"D:20220727234634+05'30'\", 'modDate': \"D:20220727234634+05'30'\", 'trapped': ''}),\n",
       " Document(page_content='Working Environment\\nIt is essential to provide employees with a work environment that is conducive to\\ntheir overall development.\\nThey need an environment which is healthy and safe and which caters to both\\npersonal comforts and facilitates doing a good job. If the working conditions are good\\n(clean, attractive surroundings), the personnel will find it easier to carry out their\\njobs.\\nOn the other hand, if the working conditions are poor (hot, noisy surroundings),\\npersonnel will find it more difficult to get things done.\\n', metadata={'source': 'sample.pdf', 'file_path': 'sample.pdf', 'page': 2, 'total_pages': 8, 'format': 'PDF 1.7', 'title': 'Slide 1', 'author': 'hp', 'subject': '', 'keywords': '', 'creator': 'Microsoft® PowerPoint® 2019', 'producer': 'Microsoft® PowerPoint® 2019', 'creationDate': \"D:20220727234634+05'30'\", 'modDate': \"D:20220727234634+05'30'\", 'trapped': ''}),\n",
       " Document(page_content='Fair Policies and Practice\\n❖\\nIndividuals who perceive that promotion decisions are made in a fair, are \\nlikely to experience satisfaction from their jobs.\\n❖\\nVery often employees are demotivated and dissatisfied with their jobs \\nbecause unfair policies and practices prevail at their place of work.\\n❖\\nIt is therefore of utmost importance for an organization to have a fair and \\nequal system regarding practices and policies so that there is no discrimination and \\nfrustration.\\n', metadata={'source': 'sample.pdf', 'file_path': 'sample.pdf', 'page': 3, 'total_pages': 8, 'format': 'PDF 1.7', 'title': 'Slide 1', 'author': 'hp', 'subject': '', 'keywords': '', 'creator': 'Microsoft® PowerPoint® 2019', 'producer': 'Microsoft® PowerPoint® 2019', 'creationDate': \"D:20220727234634+05'30'\", 'modDate': \"D:20220727234634+05'30'\", 'trapped': ''}),\n",
       " Document(page_content='Caring Organization\\nWhen people feel that the organization for which they are working, cares for them and \\ntakes actions to improve their work and lives, they are happy, and this creates higher \\nsatisfaction.\\nAppreciation\\nThe human race loves to be appreciated.\\nEven for the smaller job that does one seek to have an appreciation, from colleagues,\\nboss, and seniors. When one gets acknowledged in front of everyone, it gives up a\\nboost to their morale.\\nWhen appreciation leads to encouragement, the ultimate result is reflected in the\\nefficiency of work automatically.\\nPay\\nMoney not only helps people attain their basic needs but is also instrumental in \\nproviding upper-level need satisfaction.\\nEmployees often see pay as a reflection of how management views their contribution \\nto the organization. \\n', metadata={'source': 'sample.pdf', 'file_path': 'sample.pdf', 'page': 4, 'total_pages': 8, 'format': 'PDF 1.7', 'title': 'Slide 1', 'author': 'hp', 'subject': '', 'keywords': '', 'creator': 'Microsoft® PowerPoint® 2019', 'producer': 'Microsoft® PowerPoint® 2019', 'creationDate': \"D:20220727234634+05'30'\", 'modDate': \"D:20220727234634+05'30'\", 'trapped': ''}),\n",
       " Document(page_content='Age\\nThat is older employees tend to report higher satisfaction, and younger employees\\nsay the lowest job satisfaction rates.\\nPromotion\\npromotions take some different forms and have a variety of accompanying rewards.\\nFeel of Belongings\\nIf an employee feels that he is considered an important part of the team, he belongs\\nto the organization then there are higher chances of job satisfaction.\\nTexting or emailing an employee on his/her birthday, communicating the crisis to\\neven at the ground level employee, making special efforts during festive seasons, all\\nthese small little gestures make an employee believe that he or she belongs to the\\nfirm.\\n', metadata={'source': 'sample.pdf', 'file_path': 'sample.pdf', 'page': 5, 'total_pages': 8, 'format': 'PDF 1.7', 'title': 'Slide 1', 'author': 'hp', 'subject': '', 'keywords': '', 'creator': 'Microsoft® PowerPoint® 2019', 'producer': 'Microsoft® PowerPoint® 2019', 'creationDate': \"D:20220727234634+05'30'\", 'modDate': \"D:20220727234634+05'30'\", 'trapped': ''}),\n",
       " Document(page_content='Initiation and Leadership\\nIf an employee is given an equal number of opportunities to show their talent, take\\nthe lead and initiate then the chances of having a higher level of job satisfaction is\\nmore.\\nChallenges\\nThere are a few types of employees who love to experiment; they like it when the\\nchallenging job is assigned to them. To them, the challenge is always associated with\\nability and capability.\\nThey feel that if an employee is given a challenging job, it means that the leader trusts\\nhis or her capacity to fulfill the expectations.\\nResponsibilities\\nThis suggests that when an employee is given a bigger responsibility it makes him or\\nher conscious about the fact that the employers think him or her as a capable and\\ntrustworthy candidate.\\n', metadata={'source': 'sample.pdf', 'file_path': 'sample.pdf', 'page': 6, 'total_pages': 8, 'format': 'PDF 1.7', 'title': 'Slide 1', 'author': 'hp', 'subject': '', 'keywords': '', 'creator': 'Microsoft® PowerPoint® 2019', 'producer': 'Microsoft® PowerPoint® 2019', 'creationDate': \"D:20220727234634+05'30'\", 'modDate': \"D:20220727234634+05'30'\", 'trapped': ''}),\n",
       " Document(page_content='How Job Satisfaction Benefits the Company\\n•Higher Job Satisfaction gives;\\n•Higher productivity.\\n•Less employee turnover.\\n•Reduce absenteeism.\\n•Reduces the level of unionization.\\n•Reduces the number of accidents.\\n•It helps to create a better working environment.\\n•Improving customer satisfaction.\\n•Faster and sustainable Growth.\\n', metadata={'source': 'sample.pdf', 'file_path': 'sample.pdf', 'page': 7, 'total_pages': 8, 'format': 'PDF 1.7', 'title': 'Slide 1', 'author': 'hp', 'subject': '', 'keywords': '', 'creator': 'Microsoft® PowerPoint® 2019', 'producer': 'Microsoft® PowerPoint® 2019', 'creationDate': \"D:20220727234634+05'30'\", 'modDate': \"D:20220727234634+05'30'\", 'trapped': ''})]"
      ]
     },
     "execution_count": 10,
     "metadata": {},
     "output_type": "execute_result"
    }
   ],
   "source": [
    "data"
   ]
  },
  {
   "cell_type": "code",
   "execution_count": 9,
   "id": "5a341914-7474-4313-b204-00e54d4f808c",
   "metadata": {},
   "outputs": [],
   "source": [
    "from langchain.text_splitter import RecursiveCharacterTextSplitter\n",
    "\n",
    "text_splitter = RecursiveCharacterTextSplitter(chunk_size = 500, chunk_overlap = 0)\n",
    "all_splits = text_splitter.split_documents(data)"
   ]
  },
  {
   "cell_type": "code",
   "execution_count": 11,
   "id": "317346f1-c560-4984-8a6a-574d7402a2e0",
   "metadata": {},
   "outputs": [
    {
     "data": {
      "text/plain": [
       "[Document(page_content='Job satisfaction refers to a person’s feeling of satisfaction on the job, which\\nacts as a motivation to work. It is not the self-satisfaction, happiness or self-\\ncontentment but the satisfaction on the job.\\nJob satisfaction is defined as the, “pleasurable emotional state resulting from\\nthe appraisal of one’s job as achieving or facilitating the achievement of one’s job\\nvalues.”\\nHoppock offered one of the earliest definitions of job satisfaction when he', metadata={'source': 'sample.pdf', 'file_path': 'sample.pdf', 'page': 1, 'total_pages': 8, 'format': 'PDF 1.7', 'title': 'Slide 1', 'author': 'hp', 'subject': '', 'keywords': '', 'creator': 'Microsoft® PowerPoint® 2019', 'producer': 'Microsoft® PowerPoint® 2019', 'creationDate': \"D:20220727234634+05'30'\", 'modDate': \"D:20220727234634+05'30'\", 'trapped': ''}),\n",
       " Document(page_content='described the construct as being any number of psychological, physiological, and\\nenvironmental circumstances which leads a person to express satisfaction with their\\njob.\\nSmith et al. (1969) defined job satisfaction as the feeling an individual has\\nabout his or her job.\\nLocke (1969) suggested that job satisfaction was a positive or pleasurable\\nreaction resulting from the appraisal of one’s job, job achievement, or job\\nexperiences.\\nJOB SATISFACTION', metadata={'source': 'sample.pdf', 'file_path': 'sample.pdf', 'page': 1, 'total_pages': 8, 'format': 'PDF 1.7', 'title': 'Slide 1', 'author': 'hp', 'subject': '', 'keywords': '', 'creator': 'Microsoft® PowerPoint® 2019', 'producer': 'Microsoft® PowerPoint® 2019', 'creationDate': \"D:20220727234634+05'30'\", 'modDate': \"D:20220727234634+05'30'\", 'trapped': ''}),\n",
       " Document(page_content='Working Environment\\nIt is essential to provide employees with a work environment that is conducive to\\ntheir overall development.\\nThey need an environment which is healthy and safe and which caters to both\\npersonal comforts and facilitates doing a good job. If the working conditions are good\\n(clean, attractive surroundings), the personnel will find it easier to carry out their\\njobs.\\nOn the other hand, if the working conditions are poor (hot, noisy surroundings),', metadata={'source': 'sample.pdf', 'file_path': 'sample.pdf', 'page': 2, 'total_pages': 8, 'format': 'PDF 1.7', 'title': 'Slide 1', 'author': 'hp', 'subject': '', 'keywords': '', 'creator': 'Microsoft® PowerPoint® 2019', 'producer': 'Microsoft® PowerPoint® 2019', 'creationDate': \"D:20220727234634+05'30'\", 'modDate': \"D:20220727234634+05'30'\", 'trapped': ''}),\n",
       " Document(page_content='personnel will find it more difficult to get things done.', metadata={'source': 'sample.pdf', 'file_path': 'sample.pdf', 'page': 2, 'total_pages': 8, 'format': 'PDF 1.7', 'title': 'Slide 1', 'author': 'hp', 'subject': '', 'keywords': '', 'creator': 'Microsoft® PowerPoint® 2019', 'producer': 'Microsoft® PowerPoint® 2019', 'creationDate': \"D:20220727234634+05'30'\", 'modDate': \"D:20220727234634+05'30'\", 'trapped': ''}),\n",
       " Document(page_content='Fair Policies and Practice\\n❖\\nIndividuals who perceive that promotion decisions are made in a fair, are \\nlikely to experience satisfaction from their jobs.\\n❖\\nVery often employees are demotivated and dissatisfied with their jobs \\nbecause unfair policies and practices prevail at their place of work.\\n❖\\nIt is therefore of utmost importance for an organization to have a fair and \\nequal system regarding practices and policies so that there is no discrimination and \\nfrustration.', metadata={'source': 'sample.pdf', 'file_path': 'sample.pdf', 'page': 3, 'total_pages': 8, 'format': 'PDF 1.7', 'title': 'Slide 1', 'author': 'hp', 'subject': '', 'keywords': '', 'creator': 'Microsoft® PowerPoint® 2019', 'producer': 'Microsoft® PowerPoint® 2019', 'creationDate': \"D:20220727234634+05'30'\", 'modDate': \"D:20220727234634+05'30'\", 'trapped': ''}),\n",
       " Document(page_content='Caring Organization\\nWhen people feel that the organization for which they are working, cares for them and \\ntakes actions to improve their work and lives, they are happy, and this creates higher \\nsatisfaction.\\nAppreciation\\nThe human race loves to be appreciated.\\nEven for the smaller job that does one seek to have an appreciation, from colleagues,\\nboss, and seniors. When one gets acknowledged in front of everyone, it gives up a\\nboost to their morale.', metadata={'source': 'sample.pdf', 'file_path': 'sample.pdf', 'page': 4, 'total_pages': 8, 'format': 'PDF 1.7', 'title': 'Slide 1', 'author': 'hp', 'subject': '', 'keywords': '', 'creator': 'Microsoft® PowerPoint® 2019', 'producer': 'Microsoft® PowerPoint® 2019', 'creationDate': \"D:20220727234634+05'30'\", 'modDate': \"D:20220727234634+05'30'\", 'trapped': ''}),\n",
       " Document(page_content='When appreciation leads to encouragement, the ultimate result is reflected in the\\nefficiency of work automatically.\\nPay\\nMoney not only helps people attain their basic needs but is also instrumental in \\nproviding upper-level need satisfaction.\\nEmployees often see pay as a reflection of how management views their contribution \\nto the organization.', metadata={'source': 'sample.pdf', 'file_path': 'sample.pdf', 'page': 4, 'total_pages': 8, 'format': 'PDF 1.7', 'title': 'Slide 1', 'author': 'hp', 'subject': '', 'keywords': '', 'creator': 'Microsoft® PowerPoint® 2019', 'producer': 'Microsoft® PowerPoint® 2019', 'creationDate': \"D:20220727234634+05'30'\", 'modDate': \"D:20220727234634+05'30'\", 'trapped': ''}),\n",
       " Document(page_content='Age\\nThat is older employees tend to report higher satisfaction, and younger employees\\nsay the lowest job satisfaction rates.\\nPromotion\\npromotions take some different forms and have a variety of accompanying rewards.\\nFeel of Belongings\\nIf an employee feels that he is considered an important part of the team, he belongs\\nto the organization then there are higher chances of job satisfaction.\\nTexting or emailing an employee on his/her birthday, communicating the crisis to', metadata={'source': 'sample.pdf', 'file_path': 'sample.pdf', 'page': 5, 'total_pages': 8, 'format': 'PDF 1.7', 'title': 'Slide 1', 'author': 'hp', 'subject': '', 'keywords': '', 'creator': 'Microsoft® PowerPoint® 2019', 'producer': 'Microsoft® PowerPoint® 2019', 'creationDate': \"D:20220727234634+05'30'\", 'modDate': \"D:20220727234634+05'30'\", 'trapped': ''}),\n",
       " Document(page_content='even at the ground level employee, making special efforts during festive seasons, all\\nthese small little gestures make an employee believe that he or she belongs to the\\nfirm.', metadata={'source': 'sample.pdf', 'file_path': 'sample.pdf', 'page': 5, 'total_pages': 8, 'format': 'PDF 1.7', 'title': 'Slide 1', 'author': 'hp', 'subject': '', 'keywords': '', 'creator': 'Microsoft® PowerPoint® 2019', 'producer': 'Microsoft® PowerPoint® 2019', 'creationDate': \"D:20220727234634+05'30'\", 'modDate': \"D:20220727234634+05'30'\", 'trapped': ''}),\n",
       " Document(page_content='Initiation and Leadership\\nIf an employee is given an equal number of opportunities to show their talent, take\\nthe lead and initiate then the chances of having a higher level of job satisfaction is\\nmore.\\nChallenges\\nThere are a few types of employees who love to experiment; they like it when the\\nchallenging job is assigned to them. To them, the challenge is always associated with\\nability and capability.\\nThey feel that if an employee is given a challenging job, it means that the leader trusts', metadata={'source': 'sample.pdf', 'file_path': 'sample.pdf', 'page': 6, 'total_pages': 8, 'format': 'PDF 1.7', 'title': 'Slide 1', 'author': 'hp', 'subject': '', 'keywords': '', 'creator': 'Microsoft® PowerPoint® 2019', 'producer': 'Microsoft® PowerPoint® 2019', 'creationDate': \"D:20220727234634+05'30'\", 'modDate': \"D:20220727234634+05'30'\", 'trapped': ''}),\n",
       " Document(page_content='his or her capacity to fulfill the expectations.\\nResponsibilities\\nThis suggests that when an employee is given a bigger responsibility it makes him or\\nher conscious about the fact that the employers think him or her as a capable and\\ntrustworthy candidate.', metadata={'source': 'sample.pdf', 'file_path': 'sample.pdf', 'page': 6, 'total_pages': 8, 'format': 'PDF 1.7', 'title': 'Slide 1', 'author': 'hp', 'subject': '', 'keywords': '', 'creator': 'Microsoft® PowerPoint® 2019', 'producer': 'Microsoft® PowerPoint® 2019', 'creationDate': \"D:20220727234634+05'30'\", 'modDate': \"D:20220727234634+05'30'\", 'trapped': ''}),\n",
       " Document(page_content='How Job Satisfaction Benefits the Company\\n•Higher Job Satisfaction gives;\\n•Higher productivity.\\n•Less employee turnover.\\n•Reduce absenteeism.\\n•Reduces the level of unionization.\\n•Reduces the number of accidents.\\n•It helps to create a better working environment.\\n•Improving customer satisfaction.\\n•Faster and sustainable Growth.', metadata={'source': 'sample.pdf', 'file_path': 'sample.pdf', 'page': 7, 'total_pages': 8, 'format': 'PDF 1.7', 'title': 'Slide 1', 'author': 'hp', 'subject': '', 'keywords': '', 'creator': 'Microsoft® PowerPoint® 2019', 'producer': 'Microsoft® PowerPoint® 2019', 'creationDate': \"D:20220727234634+05'30'\", 'modDate': \"D:20220727234634+05'30'\", 'trapped': ''})]"
      ]
     },
     "execution_count": 11,
     "metadata": {},
     "output_type": "execute_result"
    }
   ],
   "source": [
    "all_splits"
   ]
  },
  {
   "cell_type": "code",
   "execution_count": 13,
   "id": "6985f154-7e55-4c60-ad5a-68c4f6245ade",
   "metadata": {},
   "outputs": [
    {
     "name": "stderr",
     "output_type": "stream",
     "text": [
      "/home/abshk/anaconda3/envs/deeplearning/lib/python3.9/site-packages/tqdm/auto.py:21: TqdmWarning: IProgress not found. Please update jupyter and ipywidgets. See https://ipywidgets.readthedocs.io/en/stable/user_install.html\n",
      "  from .autonotebook import tqdm as notebook_tqdm\n",
      "Downloading (…)e9125/.gitattributes: 100%|██████████████| 1.18k/1.18k [00:00<00:00, 183kB/s]\n",
      "Downloading (…)_Pooling/config.json: 100%|█████████████████| 190/190 [00:00<00:00, 32.5kB/s]\n",
      "Downloading (…)7e55de9125/README.md: 100%|█████████████| 10.6k/10.6k [00:00<00:00, 13.6MB/s]\n",
      "Downloading (…)55de9125/config.json: 100%|█████████████████| 612/612 [00:00<00:00, 1.01MB/s]\n",
      "Downloading (…)ce_transformers.json: 100%|██████████████████| 116/116 [00:00<00:00, 173kB/s]\n",
      "Downloading (…)125/data_config.json: 100%|█████████████| 39.3k/39.3k [00:00<00:00, 5.19MB/s]\n",
      "Downloading pytorch_model.bin: 100%|███████████████████| 90.9M/90.9M [00:23<00:00, 3.80MB/s]\n",
      "Downloading (…)nce_bert_config.json: 100%|███████████████| 53.0/53.0 [00:00<00:00, 7.14kB/s]\n",
      "Downloading (…)cial_tokens_map.json: 100%|██████████████████| 112/112 [00:00<00:00, 185kB/s]\n",
      "Downloading (…)e9125/tokenizer.json: 100%|████████████████| 466k/466k [00:00<00:00, 976kB/s]\n",
      "Downloading (…)okenizer_config.json: 100%|██████████████████| 350/350 [00:00<00:00, 537kB/s]\n",
      "Downloading (…)9125/train_script.py: 100%|█████████████| 13.2k/13.2k [00:00<00:00, 17.8MB/s]\n",
      "Downloading (…)7e55de9125/vocab.txt: 100%|████████████████| 232k/232k [00:00<00:00, 561kB/s]\n",
      "Downloading (…)5de9125/modules.json: 100%|██████████████████| 349/349 [00:00<00:00, 550kB/s]\n"
     ]
    }
   ],
   "source": [
    "from langchain.vectorstores import Chroma\n",
    "from langchain.embeddings import HuggingFaceEmbeddings\n",
    "\n",
    "embeddings_model = HuggingFaceEmbeddings(model_name=\"all-MiniLM-L6-v2\")"
   ]
  },
  {
   "cell_type": "code",
   "execution_count": 14,
   "id": "47d707c3-5e7c-46d9-9e3a-673624c5c98d",
   "metadata": {},
   "outputs": [],
   "source": [
    "vectorstore = Chroma.from_documents(documents=all_splits, embedding=embeddings_model)"
   ]
  },
  {
   "cell_type": "code",
   "execution_count": 16,
   "id": "2f081535-4a8a-4b9a-919f-5ac05903155e",
   "metadata": {},
   "outputs": [
    {
     "data": {
      "text/plain": [
       "4"
      ]
     },
     "execution_count": 16,
     "metadata": {},
     "output_type": "execute_result"
    }
   ],
   "source": [
    "question = \"what is satisfaction?\"\n",
    "docs = vectorstore.similarity_search(question)\n",
    "len(docs)"
   ]
  },
  {
   "cell_type": "code",
   "execution_count": 17,
   "id": "3699b6dd-518d-4a9f-b4d5-82f8817b345e",
   "metadata": {},
   "outputs": [
    {
     "data": {
      "text/plain": [
       "[Document(page_content='described the construct as being any number of psychological, physiological, and\\nenvironmental circumstances which leads a person to express satisfaction with their\\njob.\\nSmith et al. (1969) defined job satisfaction as the feeling an individual has\\nabout his or her job.\\nLocke (1969) suggested that job satisfaction was a positive or pleasurable\\nreaction resulting from the appraisal of one’s job, job achievement, or job\\nexperiences.\\nJOB SATISFACTION', metadata={'author': 'hp', 'creationDate': \"D:20220727234634+05'30'\", 'creator': 'Microsoft® PowerPoint® 2019', 'file_path': 'sample.pdf', 'format': 'PDF 1.7', 'keywords': '', 'modDate': \"D:20220727234634+05'30'\", 'page': 1, 'producer': 'Microsoft® PowerPoint® 2019', 'source': 'sample.pdf', 'subject': '', 'title': 'Slide 1', 'total_pages': 8, 'trapped': ''}),\n",
       " Document(page_content='Job satisfaction refers to a person’s feeling of satisfaction on the job, which\\nacts as a motivation to work. It is not the self-satisfaction, happiness or self-\\ncontentment but the satisfaction on the job.\\nJob satisfaction is defined as the, “pleasurable emotional state resulting from\\nthe appraisal of one’s job as achieving or facilitating the achievement of one’s job\\nvalues.”\\nHoppock offered one of the earliest definitions of job satisfaction when he', metadata={'author': 'hp', 'creationDate': \"D:20220727234634+05'30'\", 'creator': 'Microsoft® PowerPoint® 2019', 'file_path': 'sample.pdf', 'format': 'PDF 1.7', 'keywords': '', 'modDate': \"D:20220727234634+05'30'\", 'page': 1, 'producer': 'Microsoft® PowerPoint® 2019', 'source': 'sample.pdf', 'subject': '', 'title': 'Slide 1', 'total_pages': 8, 'trapped': ''}),\n",
       " Document(page_content='How Job Satisfaction Benefits the Company\\n•Higher Job Satisfaction gives;\\n•Higher productivity.\\n•Less employee turnover.\\n•Reduce absenteeism.\\n•Reduces the level of unionization.\\n•Reduces the number of accidents.\\n•It helps to create a better working environment.\\n•Improving customer satisfaction.\\n•Faster and sustainable Growth.', metadata={'author': 'hp', 'creationDate': \"D:20220727234634+05'30'\", 'creator': 'Microsoft® PowerPoint® 2019', 'file_path': 'sample.pdf', 'format': 'PDF 1.7', 'keywords': '', 'modDate': \"D:20220727234634+05'30'\", 'page': 7, 'producer': 'Microsoft® PowerPoint® 2019', 'source': 'sample.pdf', 'subject': '', 'title': 'Slide 1', 'total_pages': 8, 'trapped': ''}),\n",
       " Document(page_content='When appreciation leads to encouragement, the ultimate result is reflected in the\\nefficiency of work automatically.\\nPay\\nMoney not only helps people attain their basic needs but is also instrumental in \\nproviding upper-level need satisfaction.\\nEmployees often see pay as a reflection of how management views their contribution \\nto the organization.', metadata={'author': 'hp', 'creationDate': \"D:20220727234634+05'30'\", 'creator': 'Microsoft® PowerPoint® 2019', 'file_path': 'sample.pdf', 'format': 'PDF 1.7', 'keywords': '', 'modDate': \"D:20220727234634+05'30'\", 'page': 4, 'producer': 'Microsoft® PowerPoint® 2019', 'source': 'sample.pdf', 'subject': '', 'title': 'Slide 1', 'total_pages': 8, 'trapped': ''})]"
      ]
     },
     "execution_count": 17,
     "metadata": {},
     "output_type": "execute_result"
    }
   ],
   "source": [
    "docs"
   ]
  }
 ],
 "metadata": {
  "kernelspec": {
   "display_name": "Python 3 (ipykernel)",
   "language": "python",
   "name": "python3"
  },
  "language_info": {
   "codemirror_mode": {
    "name": "ipython",
    "version": 3
   },
   "file_extension": ".py",
   "mimetype": "text/x-python",
   "name": "python",
   "nbconvert_exporter": "python",
   "pygments_lexer": "ipython3",
   "version": "3.9.15"
  }
 },
 "nbformat": 4,
 "nbformat_minor": 5
}
