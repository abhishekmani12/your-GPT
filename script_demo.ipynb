{
 "cells": [
  {
   "cell_type": "code",
   "execution_count": 3,
   "metadata": {},
   "outputs": [],
   "source": [
    "from load import embed, analyze\n",
    "from query import get_answer, get_pipe\n",
    "from wiki import get_details"
   ]
  },
  {
   "cell_type": "code",
   "execution_count": 4,
   "metadata": {},
   "outputs": [],
   "source": [
    "import os\n",
    "from dotenv import load_dotenv\n",
    "load_dotenv()\n",
    "model_type=os.getenv('model')"
   ]
  },
  {
   "cell_type": "code",
   "execution_count": 2,
   "metadata": {},
   "outputs": [
    {
     "data": {
      "application/vnd.jupyter.widget-view+json": {
       "model_id": "2d662d92a93040dcabbfa6009f60ea2a",
       "version_major": 2,
       "version_minor": 0
      },
      "text/plain": [
       "                                             |          | [  0%]   00:00 -> (? left)"
      ]
     },
     "metadata": {},
     "output_type": "display_data"
    },
    {
     "name": "stderr",
     "output_type": "stream",
     "text": [
      "/home/abshk/anaconda3/envs/nlp/lib/python3.9/site-packages/sweetviz/from_profiling_pandas.py:65: FutureWarning: is_categorical_dtype is deprecated and will be removed in a future version. Use isinstance(dtype, CategoricalDtype) instead\n",
      "  if pd.api.types.is_categorical_dtype(keys):\n",
      "/home/abshk/anaconda3/envs/nlp/lib/python3.9/site-packages/sweetviz/from_profiling_pandas.py:65: FutureWarning: is_categorical_dtype is deprecated and will be removed in a future version. Use isinstance(dtype, CategoricalDtype) instead\n",
      "  if pd.api.types.is_categorical_dtype(keys):\n",
      "/home/abshk/anaconda3/envs/nlp/lib/python3.9/site-packages/sweetviz/from_profiling_pandas.py:65: FutureWarning: is_categorical_dtype is deprecated and will be removed in a future version. Use isinstance(dtype, CategoricalDtype) instead\n",
      "  if pd.api.types.is_categorical_dtype(keys):\n",
      "/home/abshk/anaconda3/envs/nlp/lib/python3.9/site-packages/sweetviz/from_profiling_pandas.py:65: FutureWarning: is_categorical_dtype is deprecated and will be removed in a future version. Use isinstance(dtype, CategoricalDtype) instead\n",
      "  if pd.api.types.is_categorical_dtype(keys):\n",
      "/home/abshk/anaconda3/envs/nlp/lib/python3.9/site-packages/sweetviz/from_profiling_pandas.py:65: FutureWarning: is_categorical_dtype is deprecated and will be removed in a future version. Use isinstance(dtype, CategoricalDtype) instead\n",
      "  if pd.api.types.is_categorical_dtype(keys):\n",
      "/home/abshk/anaconda3/envs/nlp/lib/python3.9/site-packages/sweetviz/from_profiling_pandas.py:65: FutureWarning: is_categorical_dtype is deprecated and will be removed in a future version. Use isinstance(dtype, CategoricalDtype) instead\n",
      "  if pd.api.types.is_categorical_dtype(keys):\n",
      "/home/abshk/anaconda3/envs/nlp/lib/python3.9/site-packages/sweetviz/from_profiling_pandas.py:65: FutureWarning: is_categorical_dtype is deprecated and will be removed in a future version. Use isinstance(dtype, CategoricalDtype) instead\n",
      "  if pd.api.types.is_categorical_dtype(keys):\n",
      "/home/abshk/anaconda3/envs/nlp/lib/python3.9/site-packages/sweetviz/from_profiling_pandas.py:65: FutureWarning: is_categorical_dtype is deprecated and will be removed in a future version. Use isinstance(dtype, CategoricalDtype) instead\n",
      "  if pd.api.types.is_categorical_dtype(keys):\n",
      "/home/abshk/anaconda3/envs/nlp/lib/python3.9/site-packages/sweetviz/from_profiling_pandas.py:65: FutureWarning: is_categorical_dtype is deprecated and will be removed in a future version. Use isinstance(dtype, CategoricalDtype) instead\n",
      "  if pd.api.types.is_categorical_dtype(keys):\n",
      "/home/abshk/anaconda3/envs/nlp/lib/python3.9/site-packages/sweetviz/from_profiling_pandas.py:65: FutureWarning: is_categorical_dtype is deprecated and will be removed in a future version. Use isinstance(dtype, CategoricalDtype) instead\n",
      "  if pd.api.types.is_categorical_dtype(keys):\n",
      "/home/abshk/anaconda3/envs/nlp/lib/python3.9/site-packages/sweetviz/from_profiling_pandas.py:65: FutureWarning: is_categorical_dtype is deprecated and will be removed in a future version. Use isinstance(dtype, CategoricalDtype) instead\n",
      "  if pd.api.types.is_categorical_dtype(keys):\n",
      "/home/abshk/anaconda3/envs/nlp/lib/python3.9/site-packages/sweetviz/from_profiling_pandas.py:65: FutureWarning: is_categorical_dtype is deprecated and will be removed in a future version. Use isinstance(dtype, CategoricalDtype) instead\n",
      "  if pd.api.types.is_categorical_dtype(keys):\n",
      "/home/abshk/anaconda3/envs/nlp/lib/python3.9/site-packages/sweetviz/from_profiling_pandas.py:65: FutureWarning: is_categorical_dtype is deprecated and will be removed in a future version. Use isinstance(dtype, CategoricalDtype) instead\n",
      "  if pd.api.types.is_categorical_dtype(keys):\n"
     ]
    },
    {
     "name": "stdout",
     "output_type": "stream",
     "text": [
      "Report Report.html was generated! NOTEBOOK/COLAB USERS: the web browser MAY not pop up, regardless, the report IS saved in your notebook/colab files.\n"
     ]
    }
   ],
   "source": [
    "#DATA TOOLS:\n",
    "\n",
    "#Data Analysis and Visualization of CSV\n",
    "report = analyze(\"samples/train.csv\")"
   ]
  },
  {
   "cell_type": "code",
   "execution_count": 3,
   "metadata": {},
   "outputs": [
    {
     "name": "stderr",
     "output_type": "stream",
     "text": [
      "  0%|          | 0/7 [00:00<?, ?it/s]"
     ]
    },
    {
     "name": "stdout",
     "output_type": "stream",
     "text": [
      "US\n",
      "US not found. Redirecting to United_States\n"
     ]
    },
    {
     "name": "stderr",
     "output_type": "stream",
     "text": [
      " 14%|█▍        | 1/7 [00:09<00:55,  9.22s/it]"
     ]
    },
    {
     "name": "stdout",
     "output_type": "stream",
     "text": [
      "Taiwan\n",
      "Taiwan found.\n"
     ]
    },
    {
     "name": "stderr",
     "output_type": "stream",
     "text": [
      " 29%|██▊       | 2/7 [00:12<00:29,  5.98s/it]"
     ]
    },
    {
     "name": "stdout",
     "output_type": "stream",
     "text": [
      "Boeing\n",
      "Boeing found.\n"
     ]
    },
    {
     "name": "stderr",
     "output_type": "stream",
     "text": [
      " 43%|████▎     | 3/7 [00:15<00:18,  4.53s/it]"
     ]
    },
    {
     "name": "stdout",
     "output_type": "stream",
     "text": [
      "TSMC\n",
      "TSMC found.\n"
     ]
    },
    {
     "name": "stderr",
     "output_type": "stream",
     "text": [
      " 57%|█████▋    | 4/7 [00:18<00:11,  3.92s/it]"
     ]
    },
    {
     "name": "stdout",
     "output_type": "stream",
     "text": [
      "737\n",
      "737 not found. Redirecting to Boeing_737\n"
     ]
    },
    {
     "name": "stderr",
     "output_type": "stream",
     "text": [
      " 71%|███████▏  | 5/7 [00:24<00:09,  4.74s/it]"
     ]
    },
    {
     "name": "stdout",
     "output_type": "stream",
     "text": [
      "China\n",
      "China found.\n"
     ]
    },
    {
     "name": "stderr",
     "output_type": "stream",
     "text": [
      " 86%|████████▌ | 6/7 [00:29<00:04,  4.62s/it]"
     ]
    },
    {
     "name": "stdout",
     "output_type": "stream",
     "text": [
      "SpiritAirlines\n",
      "SpiritAirlines not found. Redirecting to Spirit_Airlines\n"
     ]
    },
    {
     "name": "stderr",
     "output_type": "stream",
     "text": [
      "100%|██████████| 7/7 [00:32<00:00,  4.58s/it]\n"
     ]
    },
    {
     "data": {
      "text/plain": [
       "({'US': \"The United States of America (USA), commonly known as the United States (U.S.) or simply America, is a country primarily located in North America and consisting of 50 states, a federal district, five major unincorporated territories, and nine Minor Outlying Islands. It includes 326 Indian reservations. It is the world's third-largest country by both land and total area. It shares land borders with Canada to its north and with Mexico to its south and has maritime borders with the Bahamas, Cuba, Russia, and other nations. With a population of over 333 million, it is the most populous country in the Americas and the third-most populous in the world. The national capital of the United States is Washington, D.C., and its most populous city and principal financial center is New York City.Indigenous peoples have inhabited the Americas for thousands of years. Beginning in 1607, British colonization led to the establishment of the Thirteen Colonies in what is now the Eastern United States. They clashed with the British Crown over taxation and political representation, which led to the American Revolution and the ensuing Revolutionary War. The United States declared independence on July 4, 1776, becoming the first nation-state founded on Enlightenment principles of unalienable natural rights, consent of the governed, and liberal democracy. The country began expanding across North America, spanning the continent by 1848. Sectional division over slavery led to the secession of the Confederate States of America, which fought the remaining states of the Union during the American Civil War (1861–1865). With the Union's victory and preservation, slavery was abolished nationally. By 1900, the United States had established itself as a great power, becoming the world's largest economy. After Japan's attack on Pearl Harbor in 1941, the U.S. entered World War II on the side of the Allies. The aftermath of the war left the United States and the Soviet Union as the world's two superpowers and led to the Cold War. During the Cold War, both countries engaged in a struggle for ideological dominance but avoided direct military conflict. They also competed in the Space Race, which culminated in the 1969 landing of Apollo 11, making the U.S. the only nation to land humans on the Moon. With the Soviet Union's collapse and the subsequent end of the Cold War in 1991, the United States emerged as the world's sole superpower.\",\n",
       "  'Taiwan': \"Taiwan,[II] officially the Republic of China (ROC),[I] is a country in East Asia. It is located at the junction of the East and South China Seas in the northwestern Pacific Ocean, with the People's Republic of China (PRC) to the northwest, Japan to the northeast, and the Philippines to the south. The territories controlled by the ROC consist of 168 islands with a combined area of 36,193 square kilometres (13,974 square miles). The main island of Taiwan, also known as Formosa, has an area of 35,808 square kilometres (13,826 square miles), with mountain ranges dominating the eastern two-thirds and plains in the western third, where its highly urbanized population is concentrated. The capital, Taipei, forms along with New Taipei City and Keelung the largest metropolitan area in Taiwan. With around 23.9 million inhabitants, Taiwan is among the most densely populated countries.Taiwan has been settled for at least 25,000 years. Ancestors of Taiwanese indigenous peoples settled the island around 6,000 years ago. In the 17th century, large-scale Han Chinese immigration to western Taiwan began under a Dutch colony and continued under the Kingdom of Tungning, the first predominantly Han Chinese state in Taiwanese history. The island was annexed in 1683 by the Qing dynasty of China and ceded to the Empire of Japan in 1895. The Republic of China, which had overthrown the Qing in 1911, took control following the surrender of Japan in 1945. Japan renounced sovereignty over Taiwan in 1952. The immediate resumption of the Chinese Civil War resulted in the loss of the Chinese mainland to Communist forces, who established the People's Republic of China and the flight of the ROC central government to Taiwan in 1949. The effective jurisdiction of the ROC has since been limited to Taiwan, Penghu, and smaller islands.\",\n",
       "  'Boeing': \"The Boeing Company (/ˈboʊɪŋ/) is an American multinational corporation that designs, manufactures, and sells airplanes, rotorcraft, rockets, satellites, telecommunications equipment, and missiles worldwide. The company also provides leasing and product support services. Boeing is among the largest global aerospace manufacturers; it is the third-largest defense contractor in the world based on 2020 revenue, and is the largest exporter in the United States by dollar value. Boeing's stock is a component of the Dow Jones Industrial Average.Boeing was founded by William Boeing in Seattle, Washington, on July 15, 1916. The present corporation is the result of the merger of Boeing with McDonnell Douglas on August 1, 1997. Then–chairman and CEO of Boeing, Philip M. Condit, assumed those roles in the combined company, while Harry Stonecipher, former CEO of McDonnell Douglas, became president and COO.\",\n",
       "  'TSMC': 'Taiwan Semiconductor Manufacturing Company Limited (TSMC; also called Taiwan Semiconductor) is a Taiwanese multinational semiconductor contract manufacturing and design company. It is the world\\'s most valuable semiconductor company, the world\\'s largest dedicated independent (\"pure-play\") semiconductor foundry, and its country\\'s largest company, with headquarters and main operations located in the Hsinchu Science Park in Hsinchu, Taiwan. It is majority owned by foreign investors, and the central government of Taiwan is the largest shareholder.Founded in Taiwan in 1987 by Morris Chang, TSMC was the world\\'s first dedicated semiconductor foundry and has long been the leading company in its field. When Chang retired in 2018, after 31 years of TSMC leadership, Mark Liu became chairman and C. C. Wei became Chief Executive. It has been listed on the Taiwan Stock Exchange (TWSE: 2330) since 1993; in 1997 it became the first Taiwanese company to be listed on the New York Stock Exchange (NYSE: TSM). Since 1994, TSMC has had a compound annual growth rate (CAGR) of 17.4% in revenue and a CAGR of 16.1% in earnings.',\n",
       "  '737': 'The Boeing 737 is a narrow-body aircraft produced by Boeing at its Everett and Renton factories in Washington.Developed to supplement the Boeing 727 on short and thin routes, the twinjet retains the 707 fuselage width and six abreast seating but with two underwing turbofans instead of four. Envisioned in 1964, the initial 737-100 made its first flight in April 1967 and entered service in February 1968 with Lufthansa.The lengthened 737-200 entered service in April 1968, and evolved through four generations, offering several variants for 85 to 215 passengers.The 737-100/200 original variants were powered by Pratt & Whitney JT8D low-bypass engines and offered seating for 85 to 130 passengers. Launched in 1980 and introduced in 1984, the 737 Classic -300/400/500 variants were upgraded with CFM56-3 turbofans and offered 110 to 168 seats. Introduced in 1997, the 737 Next Generation (NG) -600/700/800/900 variants have updated CFM56-7 turbofans, a larger wing and an upgraded glass cockpit, and seat 108 to 215 passengers. The latest generation, the 737 MAX, 737-7/8/9/10 MAX, powered by improved CFM LEAP-1B high bypass turbofans and accommodating 138 to 204 people, entered service in 2017.Boeing Business Jet versions have been produced since the 737NG, as well as military models.',\n",
       "  'China': \"China (Chinese: 中国; pinyin: Zhōngguó), officially the People's Republic of China (PRC), is a country in East Asia. It is the world's second-most populous country with a population exceeding 1.4 billion. China spans the equivalent of five time zones and borders fourteen countries by land, tied with Russia as having the most of any country in the world. With an area of nearly 9.6 million square kilometers (3,700,000 sq mi), it is the world's third largest country by total land area. The country is divided into 22 provinces, five autonomous regions, four municipalities, and two semi-autonomous special administrative regions. The national capital is Beijing, and the most populous city and largest financial center is Shanghai.\",\n",
       "  'SpiritAirlines': \"Spirit Airlines, Inc. (stylized as spirit) is a major United States ultra-low cost airline headquartered in Miramar, Florida, in the Miami metropolitan area. Spirit operates scheduled flights throughout the United States, the Caribbean and Latin America. Spirit was the seventh largest passenger carrier in North America as of 2023, as well as the largest ultra-low-cost carrier in North America.As of July 2022, JetBlue has made an offer to acquire Spirit for US$3.8 billion. On October 19, 2022, the deal was approved by a majority of the airline's voting shareholders. However, in March 2023, the United States Department of Justice sued to block the acquisition.\"},\n",
       " {' 737', ' Boeing', ' China', ' SpiritAirlines', ' TSMC', ' US', 'Taiwan'})"
      ]
     },
     "execution_count": 3,
     "metadata": {},
     "output_type": "execute_result"
    }
   ],
   "source": [
    "#Content Generation based on important keywords from a sentence:\n",
    "\n",
    "content  =get_details(\"Taiwan minister says TSMC has received China chip waiver extension from US, Boeing, SpiritAirlines expand inspections for 737 production defect\")\n",
    "content"
   ]
  },
  {
   "cell_type": "code",
   "execution_count": 4,
   "metadata": {},
   "outputs": [
    {
     "name": "stdout",
     "output_type": "stream",
     "text": [
      "documents/OCR-marksheet.pdf\n"
     ]
    },
    {
     "data": {
      "application/vnd.jupyter.widget-view+json": {
       "model_id": "2357fb2cfef5411390247899260529a9",
       "version_major": 2,
       "version_minor": 0
      },
      "text/plain": [
       "Output()"
      ]
     },
     "metadata": {},
     "output_type": "display_data"
    },
    {
     "data": {
      "text/html": [
       "<pre style=\"white-space:pre;overflow-x:auto;line-height:normal;font-family:Menlo,'DejaVu Sans Mono',consolas,'Courier New',monospace\"></pre>\n"
      ],
      "text/plain": []
     },
     "metadata": {},
     "output_type": "display_data"
    },
    {
     "data": {
      "text/html": [
       "<pre style=\"white-space:pre;overflow-x:auto;line-height:normal;font-family:Menlo,'DejaVu Sans Mono',consolas,'Courier New',monospace\">\n",
       "</pre>\n"
      ],
      "text/plain": [
       "\n"
      ]
     },
     "metadata": {},
     "output_type": "display_data"
    },
    {
     "data": {
      "application/vnd.jupyter.widget-view+json": {
       "model_id": "f2b9b505a8944dafbbbe6440b83d0041",
       "version_major": 2,
       "version_minor": 0
      },
      "text/plain": [
       "Output()"
      ]
     },
     "metadata": {},
     "output_type": "display_data"
    },
    {
     "data": {
      "text/html": [
       "<pre style=\"white-space:pre;overflow-x:auto;line-height:normal;font-family:Menlo,'DejaVu Sans Mono',consolas,'Courier New',monospace\"></pre>\n"
      ],
      "text/plain": []
     },
     "metadata": {},
     "output_type": "display_data"
    },
    {
     "data": {
      "text/html": [
       "<pre style=\"white-space:pre;overflow-x:auto;line-height:normal;font-family:Menlo,'DejaVu Sans Mono',consolas,'Courier New',monospace\">\n",
       "</pre>\n"
      ],
      "text/plain": [
       "\n"
      ]
     },
     "metadata": {},
     "output_type": "display_data"
    },
    {
     "data": {
      "application/vnd.jupyter.widget-view+json": {
       "model_id": "f154922257054dc9b74ca2daae80d246",
       "version_major": 2,
       "version_minor": 0
      },
      "text/plain": [
       "Output()"
      ]
     },
     "metadata": {},
     "output_type": "display_data"
    },
    {
     "data": {
      "text/html": [
       "<pre style=\"white-space:pre;overflow-x:auto;line-height:normal;font-family:Menlo,'DejaVu Sans Mono',consolas,'Courier New',monospace\"></pre>\n"
      ],
      "text/plain": []
     },
     "metadata": {},
     "output_type": "display_data"
    },
    {
     "data": {
      "text/html": [
       "<pre style=\"white-space:pre;overflow-x:auto;line-height:normal;font-family:Menlo,'DejaVu Sans Mono',consolas,'Courier New',monospace\">\n",
       "</pre>\n"
      ],
      "text/plain": [
       "\n"
      ]
     },
     "metadata": {},
     "output_type": "display_data"
    },
    {
     "data": {
      "application/vnd.jupyter.widget-view+json": {
       "model_id": "11040cc3cff64c26b5b9b4ac37baa18d",
       "version_major": 2,
       "version_minor": 0
      },
      "text/plain": [
       "Output()"
      ]
     },
     "metadata": {},
     "output_type": "display_data"
    },
    {
     "data": {
      "text/html": [
       "<pre style=\"white-space:pre;overflow-x:auto;line-height:normal;font-family:Menlo,'DejaVu Sans Mono',consolas,'Courier New',monospace\"></pre>\n"
      ],
      "text/plain": []
     },
     "metadata": {},
     "output_type": "display_data"
    },
    {
     "data": {
      "text/html": [
       "<pre style=\"white-space:pre;overflow-x:auto;line-height:normal;font-family:Menlo,'DejaVu Sans Mono',consolas,'Courier New',monospace\">\n",
       "</pre>\n"
      ],
      "text/plain": [
       "\n"
      ]
     },
     "metadata": {},
     "output_type": "display_data"
    },
    {
     "data": {
      "application/vnd.jupyter.widget-view+json": {
       "model_id": "e5f4675d281f4783b5c16e2e860a8e4a",
       "version_major": 2,
       "version_minor": 0
      },
      "text/plain": [
       "Output()"
      ]
     },
     "metadata": {},
     "output_type": "display_data"
    },
    {
     "data": {
      "text/html": [
       "<pre style=\"white-space:pre;overflow-x:auto;line-height:normal;font-family:Menlo,'DejaVu Sans Mono',consolas,'Courier New',monospace\"></pre>\n"
      ],
      "text/plain": []
     },
     "metadata": {},
     "output_type": "display_data"
    },
    {
     "data": {
      "text/html": [
       "<pre style=\"white-space:pre;overflow-x:auto;line-height:normal;font-family:Menlo,'DejaVu Sans Mono',consolas,'Courier New',monospace\">\n",
       "</pre>\n"
      ],
      "text/plain": [
       "\n"
      ]
     },
     "metadata": {},
     "output_type": "display_data"
    },
    {
     "name": "stdout",
     "output_type": "stream",
     "text": [
      "load INSTRUCTOR_Transformer\n",
      "max_seq_length  512\n",
      "Document Loaded\n",
      "Document Split\n",
      "Creating new vectorDB\n",
      "Document Embedded!\n"
     ]
    },
    {
     "data": {
      "text/plain": [
       "True"
      ]
     },
     "execution_count": 4,
     "metadata": {},
     "output_type": "execute_result"
    }
   ],
   "source": [
    "#DOCUMENT LOADING:\n",
    "\n",
    "embed(\"samples/marksheet.jpg\", scanned=True)"
   ]
  },
  {
   "cell_type": "code",
   "execution_count": 5,
   "metadata": {},
   "outputs": [
    {
     "name": "stdout",
     "output_type": "stream",
     "text": [
      "load INSTRUCTOR_Transformer\n",
      "max_seq_length  512\n"
     ]
    }
   ],
   "source": [
    "rqa = get_pipe(model_type)\n"
   ]
  },
  {
   "cell_type": "code",
   "execution_count": 6,
   "metadata": {},
   "outputs": [],
   "source": [
    "q=\"What are the subjects that are present in the certificate and what is my total CGPA?\"\n",
    "response=get_answer(query=q, RQA=rqa, palm=True)"
   ]
  },
  {
   "cell_type": "code",
   "execution_count": 7,
   "metadata": {},
   "outputs": [
    {
     "name": "stdout",
     "output_type": "stream",
     "text": [
      "The subjects that are present in the certificate are:\n",
      "\n",
      "* Fundamentals of Digital Systems\n",
      "* Engineering Mathematics-I\n",
      "* Engineering Physics-I\n",
      "* Engineering Chemistry-I\n",
      "* Technical English\n",
      "\n",
      "The total CGPA is 9.2.\n"
     ]
    }
   ],
   "source": [
    "print(response[1])"
   ]
  },
  {
   "cell_type": "code",
   "execution_count": 8,
   "metadata": {},
   "outputs": [
    {
     "name": "stdout",
     "output_type": "stream",
     "text": [
      "load INSTRUCTOR_Transformer\n",
      "max_seq_length  512\n",
      "Exisiting vectorDB found\n",
      "Document Loaded\n",
      "Document Split\n",
      "Document Embedded!\n"
     ]
    },
    {
     "data": {
      "text/plain": [
       "True"
      ]
     },
     "execution_count": 8,
     "metadata": {},
     "output_type": "execute_result"
    }
   ],
   "source": [
    "embed(\"samples/techdocument.pdf\")"
   ]
  },
  {
   "cell_type": "code",
   "execution_count": 9,
   "metadata": {},
   "outputs": [
    {
     "name": "stdout",
     "output_type": "stream",
     "text": [
      "The steps involved in SSH automation are as follows:\n",
      "\n",
      "1. Install openssh-server on both the source and destination machines.\n",
      "2. Create a parameter text file that specifies the destination machines and the users who should be able to access them.\n",
      "3. Create a Python executable that uses the parameter text file to automate the SSH connection process.\n",
      "4. Run the Python executable to connect to the destination machines and authenticate the users.\n",
      "5. Use the signed certificate and the source's private key as the identity file to SSH to the destination machines.\n",
      "\n",
      "The following is a more detailed explanation of each step:\n",
      "\n",
      "1. Install openssh-server on both the source and destination machines. This can be done by running the following command on the source machine:\n",
      "\n",
      "```\n",
      "sudo apt install openssh-server\n",
      "```\n",
      "\n",
      "2. Create a parameter text file that specifies the destination machines and the users who should be able to access them. This file can be named anything you want, but it should contain the following information for each destination machine:\n",
      "\n",
      "    * The hostname or IP address of the destination machine\n",
      "    * The username of the user who should be able to access the destination machine\n",
      "\n",
      "3. Create a Python executable that uses the parameter text file to automate the SSH connection process. This executable can be named anything you want, but it should contain the following code:\n",
      "\n",
      "\n",
      "import paramiko\n",
      "\n",
      "def connect_to_machine(hostname, username):\n",
      "    \"\"\"Connects to the specified machine and authenticates the specified user.\"\"\"\n",
      "    client = paramiko.SSHClient()\n",
      "    client.set_missing_host_key_policy(paramiko.AutoAddPolicy())\n",
      "    client.connect(hostname, username=username)\n",
      "    return client\n",
      "\n",
      "def main():\n",
      "    \"\"\"Connects to all of the machines specified in the parameter text file and authenticates the users specified in the file.\"\"\"\n",
      "    with open(\"parameters.txt\") as f:\n",
      "        for line in f:\n",
      "            hostname, username = line.split()\n",
      "            connect_to_machine(hostname, username)\n",
      "\n",
      "if __name__ == \"__main__\":\n",
      "    main()\n",
      "\n",
      "\n",
      "4. Run the Python executable to connect to the destination machines and authenticate the users. This can be done by running the following command:\n",
      "\n",
      "```\n",
      "python automate.py\n",
      "```\n",
      "\n",
      "5. Use the signed certificate and the source's private key as the identity file to SSH to the destination machines. This can be done by passing the following options to the `ssh` command:\n",
      "\n",
      "    * `-i`: The path to the signed certificate\n",
      "    * `-l`: The username of the user who should be able to access the destination machine\n",
      "\n",
      "For example, to SSH to the destination machine with the hostname `example.com` and the username `user1`, you would run the following command:\n",
      "\n",
      "```\n",
      "ssh -i certificate.pem -l user1 example.com\n",
      "```\n"
     ]
    }
   ],
   "source": [
    "q=\"Summarize the steps involved in SSH automation\"\n",
    "response=get_answer(query=q, RQA=rqa, palm=True)\n",
    "print(response[1])"
   ]
  }
 ],
 "metadata": {
  "kernelspec": {
   "display_name": "nlp",
   "language": "python",
   "name": "python3"
  },
  "language_info": {
   "codemirror_mode": {
    "name": "ipython",
    "version": 3
   },
   "file_extension": ".py",
   "mimetype": "text/x-python",
   "name": "python",
   "nbconvert_exporter": "python",
   "pygments_lexer": "ipython3",
   "version": "3.9.18"
  }
 },
 "nbformat": 4,
 "nbformat_minor": 2
}
